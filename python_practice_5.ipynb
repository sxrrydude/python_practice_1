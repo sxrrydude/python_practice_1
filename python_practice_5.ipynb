{
  "cells": [
    {
      "cell_type": "markdown",
      "metadata": {
        "id": "awfU0tMnOlHH"
      },
      "source": [
        "# I. OOP"
      ]
    },
    {
      "cell_type": "markdown",
      "metadata": {
        "id": "T6r88C4sOwbI"
      },
      "source": [
        "1. (7б). Створіть клас Animal, додайте docstring, три атрибути, один з яких має значення за замовчуванням та два методи на свій розсуд."
      ]
    },
    {
      "cell_type": "code",
      "execution_count": 2,
      "metadata": {
        "id": "fWXuCGV8Oqrn"
      },
      "outputs": [],
      "source": [
        "class Animal:\n",
        "    \n",
        "\n",
        "    def __init__(self, name, species, age=1):\n",
        "        \n",
        "        self.name = name\n",
        "        self.species = species\n",
        "        self.age = age\n",
        "\n",
        "    def make_sound(self):\n",
        "        \n",
        "        return \"Some generic animal sound\"\n",
        "\n",
        "    def info(self):\n",
        "        \n",
        "        \n",
        "        return f\"{self.name} is a {self.age}-year-old {self.species}.\"\n"
      ]
    },
    {
      "cell_type": "markdown",
      "metadata": {
        "id": "CTu5Dt0_UKul"
      },
      "source": [
        "1.1. (5б). Створіть два обʼєкти цього класу. На одному обʼєкті отримайте значення його атрибуту, а на іншому викличте один з його методів."
      ]
    },
    {
      "cell_type": "code",
      "execution_count": 3,
      "metadata": {
        "id": "nLQqAIlKUQRP"
      },
      "outputs": [
        {
          "name": "stdout",
          "output_type": "stream",
          "text": [
            "Fluffy is a 3-year-old Cat.\n",
            "Buddy says: Some generic animal sound\n"
          ]
        }
      ],
      "source": [
        "# Створення двох об'єктів класу Animal\n",
        "animal1 = Animal(name=\"Fluffy\", species=\"Cat\", age=3)\n",
        "animal2 = Animal(name=\"Buddy\", species=\"Dog\", age=2)\n",
        "\n",
        "# Отримання значення атрибуту одного з об'єктів\n",
        "print(f\"{animal1.name} is a {animal1.age}-year-old {animal1.species}.\")\n",
        "\n",
        "# Виклик одного з методів іншого об'єкту\n",
        "sound = animal2.make_sound()\n",
        "print(f\"{animal2.name} says: {sound}\")\n"
      ]
    },
    {
      "cell_type": "markdown",
      "metadata": {
        "id": "3KKpQYcWRNgj"
      },
      "source": [
        "2. (9б). Створіть клас, де атрибути мають різні рівні доступу. Спробуйте отримати їхні значення та опишіть результати."
      ]
    },
    {
      "cell_type": "code",
      "execution_count": 8,
      "metadata": {
        "id": "PlMQmzciRM_D"
      },
      "outputs": [
        {
          "name": "stdout",
          "output_type": "stream",
          "text": [
            "Public attribute: Public\n",
            "Protected attribute: Protected\n",
            "Private attribute: Private\n"
          ]
        }
      ],
      "source": [
        "class MyClass:\n",
        "    def __init__(self, public_attr, protected_attr, private_attr):\n",
        "        self.public_attr = public_attr      # Public attribute\n",
        "        self._protected_attr = protected_attr  # Protected attribute\n",
        "        self.__private_attr = private_attr  # Private attribute\n",
        "\n",
        "    def get_private_attr(self):\n",
        "        return self.__private_attr\n",
        "\n",
        "# Створення об'єкта класу\n",
        "obj = MyClass(public_attr=\"Public\", protected_attr=\"Protected\", private_attr=\"Private\")\n",
        "\n",
        "# Отримання значень атрибутів\n",
        "print(\"Public attribute:\", obj.public_attr)\n",
        "print(\"Protected attribute:\", obj._protected_attr)\n",
        "# Для отримання private атрибуту використовуємо метод\n",
        "print(\"Private attribute:\", obj.get_private_attr())\n",
        "\n"
      ]
    },
    {
      "cell_type": "markdown",
      "metadata": {
        "id": "iaoOLp4RRZyc"
      },
      "source": [
        "3. (8б). Як ви розумієте термін self? Для чого використовується метод __init __?"
      ]
    },
    {
      "cell_type": "markdown",
      "metadata": {
        "id": "-yuvBRjFRlz5"
      },
      "source": [
        "self - це звичайна конвенція у мові програмування для надання посилання на сам об'єкт класу.*місце для відповіді*\n",
        "__init__ - це спеціальний метод класу в, який викликається при створенні нового об'єкта цього класу."
      ]
    },
    {
      "cell_type": "markdown",
      "metadata": {
        "id": "nVectYeATZAi"
      },
      "source": [
        "4. (8б). Створіть клас Фігура без атрибутів, з методом get_area для отримання площі фігури, що повертає 0 та __add __, який приймає self та other в якості аргументів, а повертає суму площин фігур self та other."
      ]
    },
    {
      "cell_type": "code",
      "execution_count": 9,
      "metadata": {
        "id": "EYvcpzHbRZLz"
      },
      "outputs": [],
      "source": [
        "class Figure:\n",
        "    def get_area(self):\n",
        "        return 0\n",
        "\n",
        "    def __add__(self, other):\n",
        "        if isinstance(other, Figure):\n",
        "            return self.get_area() + other.get_area()\n",
        "        else:\n",
        "            raise TypeError(\"Unsupported operand type. Supported types: Figure\")\n"
      ]
    },
    {
      "cell_type": "markdown",
      "metadata": {
        "id": "PheOkqlCg9SD"
      },
      "source": [
        "5. (11б). Створіть 2 дочірніх класи від Фігури: Трикутник та Коло, які мають атрибути, необхідні для розрахунку площин. Визначте метод get_area в кожному з них так, щоби вони розраховували площу в залежності від формули для кожного типу фігури. Створіть обʼєкт класу Трикутник та обʼєкт класу Коло. Виконайте операцію суми за допомогою оператора + між ними."
      ]
    },
    {
      "cell_type": "code",
      "execution_count": 10,
      "metadata": {
        "id": "7Jo8-rqlhNSw"
      },
      "outputs": [
        {
          "name": "stdout",
          "output_type": "stream",
          "text": [
            "Площа трикутника: 20.0\n",
            "Площа кола: 28.274333882308138\n",
            "Сума площин трикутника та кола: 48.27433388230814\n"
          ]
        }
      ],
      "source": [
        "import math\n",
        "\n",
        "class Figure:\n",
        "    def get_area(self):\n",
        "        return 0\n",
        "\n",
        "    def __add__(self, other):\n",
        "        if isinstance(other, Figure):\n",
        "            return self.get_area() + other.get_area()\n",
        "        else:\n",
        "            raise TypeError(\"Unsupported operand type. Supported types: Figure\")\n",
        "\n",
        "class Triangle(Figure):\n",
        "    def __init__(self, base, height):\n",
        "        self.base = base\n",
        "        self.height = height\n",
        "\n",
        "    def get_area(self):\n",
        "        return 0.5 * self.base * self.height\n",
        "\n",
        "class Circle(Figure):\n",
        "    def __init__(self, radius):\n",
        "        self.radius = radius\n",
        "\n",
        "    def get_area(self):\n",
        "        return math.pi * self.radius**2\n",
        "\n",
        "# Створення об'єктів класів\n",
        "triangle = Triangle(base=5, height=8)\n",
        "circle = Circle(radius=3)\n",
        "\n",
        "# Розрахунок площин та виконання операції суми\n",
        "result = triangle + circle\n",
        "\n",
        "# Виведення результату\n",
        "print(\"Площа трикутника:\", triangle.get_area())\n",
        "print(\"Площа кола:\", circle.get_area())\n",
        "print(\"Сума площин трикутника та кола:\", result)\n"
      ]
    },
    {
      "cell_type": "markdown",
      "metadata": {
        "id": "WxW51aGIhN2q"
      },
      "source": [
        "6. (7б). Продемонструйте різницю між isinstance та issubclass."
      ]
    },
    {
      "cell_type": "code",
      "execution_count": 11,
      "metadata": {
        "id": "E-QybeYShdAu"
      },
      "outputs": [
        {
          "name": "stdout",
          "output_type": "stream",
          "text": [
            "True\n",
            "True\n",
            "True\n",
            "True\n"
          ]
        }
      ],
      "source": [
        "class MyClass:\n",
        "    pass\n",
        "\n",
        "obj = MyClass()\n",
        "\n",
        "print(isinstance(obj, MyClass))  # Виведе True, оскільки obj є екземпляром MyClass\n",
        "print(isinstance(obj, object))  # Виведе True, оскільки всі класи є підкласами object\n",
        "\n",
        "class Parent:\n",
        "    pass\n",
        "\n",
        "class Child(Parent):\n",
        "    pass\n",
        "\n",
        "print(issubclass(Child, Parent))  # Виведе True, оскільки Child є підкласом Parent\n",
        "print(issubclass(Child, object))  # Виведе True, оскільки всі класи є підкласами object\n"
      ]
    },
    {
      "cell_type": "markdown",
      "metadata": {
        "id": "Mrup7UL3hfC3"
      },
      "source": [
        "7. (16б). Створіть клас BankAccount з приватними атрибутами balance та account_number.\n",
        "Реалізуйте методи поповнення та зняття коштів, забезпечивши належну інкапсуляцію. Підказка: використовуйте декоратори getter та setter."
      ]
    },
    {
      "cell_type": "code",
      "execution_count": 12,
      "metadata": {
        "id": "Vi8gw9G6i37Y"
      },
      "outputs": [
        {
          "name": "stdout",
          "output_type": "stream",
          "text": [
            "Account Number: 123456789, Balance: 0\n",
            "Deposited 1000 units. New balance: 1000\n",
            "Withdrew 500 units. New balance: 500\n",
            "Updated Balance: 500\n"
          ]
        }
      ],
      "source": [
        "class BankAccount:\n",
        "    def __init__(self, account_number, initial_balance=0):\n",
        "        self.__account_number = account_number\n",
        "        self.__balance = initial_balance\n",
        "\n",
        "    @property\n",
        "    def balance(self):\n",
        "        return self.__balance\n",
        "\n",
        "    @property\n",
        "    def account_number(self):\n",
        "        return self.__account_number\n",
        "\n",
        "    def deposit(self, amount):\n",
        "        if amount > 0:\n",
        "            self.__balance += amount\n",
        "            print(f\"Deposited {amount} units. New balance: {self.__balance}\")\n",
        "        else:\n",
        "            print(\"Invalid deposit amount. Please deposit a positive amount.\")\n",
        "\n",
        "    def withdraw(self, amount):\n",
        "        if amount > 0 and amount <= self.__balance:\n",
        "            self.__balance -= amount\n",
        "            print(f\"Withdrew {amount} units. New balance: {self.__balance}\")\n",
        "        elif amount <= 0:\n",
        "            print(\"Invalid withdrawal amount. Please withdraw a positive amount.\")\n",
        "        else:\n",
        "            print(\"Insufficient funds for withdrawal.\")\n",
        "\n",
        "# Приклад використання\n",
        "account1 = BankAccount(account_number=\"123456789\")\n",
        "print(f\"Account Number: {account1.account_number}, Balance: {account1.balance}\")\n",
        "\n",
        "account1.deposit(1000)\n",
        "account1.withdraw(500)\n",
        "\n",
        "print(f\"Updated Balance: {account1.balance}\")\n"
      ]
    },
    {
      "cell_type": "markdown",
      "metadata": {
        "id": "q1mgZYuFjB_q"
      },
      "source": [
        "8. (16б). Створіть клас Library, який містить список об'єктів типу Book.\n",
        "Реалізуйте методи для додавання книги, видалення книги та відображення списку книг."
      ]
    },
    {
      "cell_type": "code",
      "execution_count": 13,
      "metadata": {
        "id": "z1W8DINmjQQj"
      },
      "outputs": [
        {
          "name": "stdout",
          "output_type": "stream",
          "text": [
            "Added book: The Great Gatsby by F. Scott Fitzgerald\n",
            "Added book: To Kill a Mockingbird by Harper Lee\n",
            "Library Books:\n",
            "The Great Gatsby by F. Scott Fitzgerald\n",
            "To Kill a Mockingbird by Harper Lee\n",
            "Removed book: To Kill a Mockingbird by Harper Lee\n",
            "Library Books:\n",
            "The Great Gatsby by F. Scott Fitzgerald\n"
          ]
        }
      ],
      "source": [
        "class Book:\n",
        "    def __init__(self, title, author):\n",
        "        self.title = title\n",
        "        self.author = author\n",
        "\n",
        "    def __str__(self):\n",
        "        return f\"{self.title} by {self.author}\"\n",
        "\n",
        "class Library:\n",
        "    def __init__(self):\n",
        "        self.books = []\n",
        "\n",
        "    def add_book(self, book):\n",
        "        if isinstance(book, Book):\n",
        "            self.books.append(book)\n",
        "            print(f\"Added book: {book}\")\n",
        "        else:\n",
        "            print(\"Invalid book object. Please provide a Book instance.\")\n",
        "\n",
        "    def remove_book(self, book_title):\n",
        "        for book in self.books:\n",
        "            if book.title == book_title:\n",
        "                self.books.remove(book)\n",
        "                print(f\"Removed book: {book}\")\n",
        "                return\n",
        "        print(f\"Book with title '{book_title}' not found in the library.\")\n",
        "\n",
        "    def display_books(self):\n",
        "        if not self.books:\n",
        "            print(\"The library is empty.\")\n",
        "        else:\n",
        "            print(\"Library Books:\")\n",
        "            for book in self.books:\n",
        "                print(book)\n",
        "\n",
        "# Приклад використання\n",
        "library = Library()\n",
        "\n",
        "book1 = Book(title=\"The Great Gatsby\", author=\"F. Scott Fitzgerald\")\n",
        "book2 = Book(title=\"To Kill a Mockingbird\", author=\"Harper Lee\")\n",
        "\n",
        "library.add_book(book1)\n",
        "library.add_book(book2)\n",
        "\n",
        "library.display_books()\n",
        "\n",
        "library.remove_book(\"To Kill a Mockingbird\")\n",
        "\n",
        "library.display_books()\n"
      ]
    },
    {
      "cell_type": "markdown",
      "metadata": {
        "id": "cCzctafPjwiZ"
      },
      "source": [
        "9. (13б). Створіть клас Person з атрибутами name та age.\n",
        "Створіть ще один клас Employee з такими атрибутами, як department та salary.\n",
        "Створіть клас Manager, який успадковує обидва класи Person та Employee. Продемонструйте використання множинної спадковості, створивши обʼєкт класу Manager та отримавши mro для цього класу."
      ]
    },
    {
      "cell_type": "code",
      "execution_count": 14,
      "metadata": {
        "id": "tZQ8-tfPk1k5"
      },
      "outputs": [
        {
          "name": "stdout",
          "output_type": "stream",
          "text": [
            "Manager: John Doe, Age: 35, Department - IT, Salary - 80000\n",
            "Method Resolution Order (MRO): [<class '__main__.Manager'>, <class '__main__.Person'>, <class '__main__.Employee'>, <class 'object'>]\n"
          ]
        }
      ],
      "source": [
        "class Person:\n",
        "    def __init__(self, name, age):\n",
        "        self.name = name\n",
        "        self.age = age\n",
        "\n",
        "    def __str__(self):\n",
        "        return f\"Person: {self.name}, Age: {self.age}\"\n",
        "\n",
        "class Employee:\n",
        "    def __init__(self, department, salary):\n",
        "        self.department = department\n",
        "        self.salary = salary\n",
        "\n",
        "    def __str__(self):\n",
        "        return f\"Employee: Department - {self.department}, Salary - {self.salary}\"\n",
        "\n",
        "class Manager(Person, Employee):\n",
        "    def __init__(self, name, age, department, salary):\n",
        "        Person.__init__(self, name, age)\n",
        "        Employee.__init__(self, department, salary)\n",
        "\n",
        "    def __str__(self):\n",
        "        return f\"Manager: {self.name}, Age: {self.age}, Department - {self.department}, Salary - {self.salary}\"\n",
        "\n",
        "# Створення об'єкту класу Manager\n",
        "manager = Manager(name=\"John Doe\", age=35, department=\"IT\", salary=80000)\n",
        "\n",
        "# Виведення інформації про об'єкт\n",
        "print(manager)\n",
        "\n",
        "# Виведення MRO (Method Resolution Order)\n",
        "print(\"Method Resolution Order (MRO):\", Manager.mro())\n"
      ]
    },
    {
      "cell_type": "markdown",
      "metadata": {
        "id": "dzH9DdFTOxCC"
      },
      "source": [
        "# Вітаю! Ви велика(ий) молодець, що впоралась(вся). Похваліть себе та побалуйте чимось приємним. Я Вами пишаюся."
      ]
    }
  ],
  "metadata": {
    "colab": {
      "provenance": []
    },
    "kernelspec": {
      "display_name": "Python 3",
      "name": "python3"
    },
    "language_info": {
      "codemirror_mode": {
        "name": "ipython",
        "version": 3
      },
      "file_extension": ".py",
      "mimetype": "text/x-python",
      "name": "python",
      "nbconvert_exporter": "python",
      "pygments_lexer": "ipython3",
      "version": "3.10.5"
    }
  },
  "nbformat": 4,
  "nbformat_minor": 0
}
