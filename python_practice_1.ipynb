{
  "cells": [
    {
      "cell_type": "markdown",
      "metadata": {
        "id": "p9wwt0LZzNvn"
      },
      "source": [
        "# I. Змінні та памʼять."
      ]
    },
    {
      "cell_type": "markdown",
      "metadata": {
        "id": "HTJrrm95xSV9"
      },
      "source": [
        "1. Створити змінні, що посилаються на два цілих числа, що однакові за значенням, де значення належить проміжку від -5 до 256. Чи будуть ці змінні рівні тільки за значенням або ж ще будуть посилатися на один і той самий обʼєкт в памʼяті? Наведіть код та дайте текстову відповідь нижче."
      ]
    },
    {
      "cell_type": "code",
      "execution_count": 2,
      "metadata": {
        "id": "FHSFpb1bwTFG"
      },
      "outputs": [
        {
          "name": "stdout",
          "output_type": "stream",
          "text": [
            "Число 1: 100\n",
            "Число 2: 100\n",
            "Чи посилаються на один й той самий об'єкт: True\n"
          ]
        }
      ],
      "source": [
        "\n",
        "num1 = 100\n",
        "num2 = 100\n",
        "\n",
        "asb = id(num1) == id(num2)\n",
        "\n",
        "print(f\"Число 1: {num1}\")\n",
        "print(f\"Число 2: {num2}\")\n",
        "print(f\"Чи посилаються на один й той самий об'єкт: {asb}\")"
      ]
    },
    {
      "cell_type": "markdown",
      "metadata": {
        "id": "N-soIzlV0Awv"
      },
      "source": [
        "2. Створити змінні, що посилаються на одне і те саме булеве значення. Чи будуть ці змінні рівні тільки за значенням або ж ще будуть посилатися на один і той самий обʼєкт в памʼяті? Наведіть код та дайте текстову відповідь нижче."
      ]
    },
    {
      "cell_type": "code",
      "execution_count": 3,
      "metadata": {
        "id": "qK1-VBih0Lgz"
      },
      "outputs": [
        {
          "name": "stdout",
          "output_type": "stream",
          "text": [
            "Змінна 1: True\n",
            "Змінна 2: True\n",
            "Чи посилаються на один і той самий об'єкт: True\n"
          ]
        }
      ],
      "source": [
        "\n",
        "bool_var1 = True\n",
        "bool_var2 = True\n",
        "\n",
        "are_same_object = id(bool_var1) == id(bool_var2)\n",
        "\n",
        "print(f\"Змінна 1: {bool_var1}\")\n",
        "print(f\"Змінна 2: {bool_var2}\")\n",
        "print(f\"Чи посилаються на один і той самий об'єкт: {are_same_object}\")"
      ]
    },
    {
      "cell_type": "markdown",
      "metadata": {
        "id": "nD2SJcgaya4d"
      },
      "source": [
        "Так, ці змінні будуть посилатися на один і той самий об'єкт в пам'яті.*місце для текстової відповіді або коментарів *текст курсивом*"
      ]
    },
    {
      "cell_type": "markdown",
      "metadata": {
        "id": "ISORzt6M3vAt"
      },
      "source": [
        "3. За допомогою якої функції можна перевірити належність змінної до вказаного типу даних (напр. чи змінна посилається на значення булевого типу)?"
      ]
    },
    {
      "cell_type": "code",
      "execution_count": 4,
      "metadata": {
        "id": "N7HHGm4H4CW7"
      },
      "outputs": [
        {
          "name": "stdout",
          "output_type": "stream",
          "text": [
            "Змінна належить до типу bool: True\n"
          ]
        }
      ],
      "source": [
        "my_variable = True\n",
        "\n",
        "is_bool = isinstance(my_variable, bool)\n",
        "\n",
        "print(f\"Змінна належить до типу bool: {is_bool}\")"
      ]
    },
    {
      "cell_type": "markdown",
      "metadata": {
        "id": "tRxugKAxwYLw"
      },
      "source": [
        "# II. Цілі числа та числа з рухомою комою"
      ]
    },
    {
      "cell_type": "markdown",
      "metadata": {
        "id": "NLHkgd5Gybc8"
      },
      "source": [
        "4. Створити дві змінні, що посилаються на будь-які два цілих числа та продемонструвати такі арифметичні операції: додавання, віднімання, ділення, множення, ділення без залишку, ділення по модулю, приведення до ступеню. Всі результати операцій вивести на екран."
      ]
    },
    {
      "cell_type": "code",
      "execution_count": 5,
      "metadata": {
        "id": "Ck6JaN4Qysoc"
      },
      "outputs": [
        {
          "name": "stdout",
          "output_type": "stream",
          "text": [
            "Додавання: 11\n",
            "Віднімання: -1\n",
            "Ділення: 0.8333333333333334\n",
            "Множення: 30\n",
            "Ділення без залишку: 0\n",
            "Ділення по модулю: 5\n",
            "Приведення до ступеню: 15625\n"
          ]
        }
      ],
      "source": [
        "num1 = 5\n",
        "num2 = 6\n",
        "\n",
        "# Додавання\n",
        "addition_result = num1 + num2\n",
        "print(f\"Додавання: {addition_result}\")\n",
        "\n",
        "# Віднімання\n",
        "subtraction_result = num1 - num2\n",
        "print(f\"Віднімання: {subtraction_result}\")\n",
        "\n",
        "# Ділення\n",
        "division_result = num1 / num2\n",
        "print(f\"Ділення: {division_result}\")\n",
        "\n",
        "# Множення\n",
        "multiplication_result = num1 * num2\n",
        "print(f\"Множення: {multiplication_result}\")\n",
        "\n",
        "# Ділення без залишку\n",
        "floor_division_result = num1 // num2\n",
        "print(f\"Ділення без залишку: {floor_division_result}\")\n",
        "\n",
        "# Ділення по модулю\n",
        "modulo_result = num1 % num2\n",
        "print(f\"Ділення по модулю: {modulo_result}\")\n",
        "\n",
        "# Приведення до ступеню (підняття до ступеня)\n",
        "power_result = num1 ** num2\n",
        "print(f\"Приведення до ступеню: {power_result}\")"
      ]
    },
    {
      "cell_type": "markdown",
      "metadata": {
        "id": "tOT1crlty3cE"
      },
      "source": [
        "5. Створити дві змінні, що посилаються на будь-які два числа з рухомою комою та продемонструвати такі арифметичні операції: додавання, віднімання, ділення, множення, ділення без залишку, ділення по модулю, приведення до ступеню. Всі результати операцій вивести на екран."
      ]
    },
    {
      "cell_type": "code",
      "execution_count": 6,
      "metadata": {
        "id": "m88_XOI9y-HI"
      },
      "outputs": [
        {
          "name": "stdout",
          "output_type": "stream",
          "text": [
            "Додавання: 13.3\n",
            "Віднімання: 3.3000000000000007\n",
            "Ділення: 1.6600000000000001\n",
            "Множення: 41.5\n",
            "Ділення без залишку: 1.0\n",
            "Ділення по модулю: 3.3000000000000007\n",
            "Приведення до ступеню: 39390.40643000002\n"
          ]
        }
      ],
      "source": [
        "num1 = 8.3\n",
        "num2 = 5.0\n",
        "\n",
        "# Додавання\n",
        "addition_result = num1 + num2\n",
        "print(f\"Додавання: {addition_result}\")\n",
        "\n",
        "# Віднімання\n",
        "subtraction_result = num1 - num2\n",
        "print(f\"Віднімання: {subtraction_result}\")\n",
        "\n",
        "# Ділення\n",
        "division_result = num1 / num2\n",
        "print(f\"Ділення: {division_result}\")\n",
        "\n",
        "# Множення\n",
        "multiplication_result = num1 * num2\n",
        "print(f\"Множення: {multiplication_result}\")\n",
        "\n",
        "# Ділення без залишку\n",
        "floor_division_result = num1 // num2\n",
        "print(f\"Ділення без залишку: {floor_division_result}\")\n",
        "\n",
        "# Ділення по модулю\n",
        "modulo_result = num1 % num2\n",
        "print(f\"Ділення по модулю: {modulo_result}\")\n",
        "\n",
        "# Приведення до ступеню (підняття до ступеня)\n",
        "power_result = num1 ** num2\n",
        "print(f\"Приведення до ступеню: {power_result}\")"
      ]
    },
    {
      "cell_type": "markdown",
      "metadata": {
        "id": "74jIsang0Yfe"
      },
      "source": [
        "6. Спробуйте проробити всі ті самі арифметичні операції над двома змінними, що посилаються на різні булеві значення. Прокоментуйте, чому, на Вашу думку, Ви отримали саме такі результати."
      ]
    },
    {
      "cell_type": "markdown",
      "metadata": {
        "id": "-pY4SCvo0wMG"
      },
      "source": [
        "*місце для текстової відповіді або коментарів*"
      ]
    },
    {
      "cell_type": "code",
      "execution_count": 7,
      "metadata": {},
      "outputs": [
        {
          "name": "stdout",
          "output_type": "stream",
          "text": [
            "Додавання: 1\n",
            "Віднімання: 1\n",
            "Множення: 0\n"
          ]
        },
        {
          "ename": "ZeroDivisionError",
          "evalue": "division by zero",
          "output_type": "error",
          "traceback": [
            "\u001b[1;31m---------------------------------------------------------------------------\u001b[0m",
            "\u001b[1;31mZeroDivisionError\u001b[0m                         Traceback (most recent call last)",
            "\u001b[1;32mc:\\Users\\stas\\Desktop\\python_practice_1.ipynb Cell 16\u001b[0m line \u001b[0;36m1\n\u001b[0;32m     <a href='vscode-notebook-cell:/c%3A/Users/stas/Desktop/python_practice_1.ipynb#X21sZmlsZQ%3D%3D?line=13'>14</a>\u001b[0m \u001b[39mprint\u001b[39m(\u001b[39mf\u001b[39m\u001b[39m\"\u001b[39m\u001b[39mМноження: \u001b[39m\u001b[39m{\u001b[39;00mmultiplication_result\u001b[39m}\u001b[39;00m\u001b[39m\"\u001b[39m)\n\u001b[0;32m     <a href='vscode-notebook-cell:/c%3A/Users/stas/Desktop/python_practice_1.ipynb#X21sZmlsZQ%3D%3D?line=15'>16</a>\u001b[0m \u001b[39m# Ділення\u001b[39;00m\n\u001b[1;32m---> <a href='vscode-notebook-cell:/c%3A/Users/stas/Desktop/python_practice_1.ipynb#X21sZmlsZQ%3D%3D?line=16'>17</a>\u001b[0m division_result \u001b[39m=\u001b[39m bool_var1 \u001b[39m/\u001b[39;49m bool_var2\n\u001b[0;32m     <a href='vscode-notebook-cell:/c%3A/Users/stas/Desktop/python_practice_1.ipynb#X21sZmlsZQ%3D%3D?line=17'>18</a>\u001b[0m \u001b[39mprint\u001b[39m(\u001b[39mf\u001b[39m\u001b[39m\"\u001b[39m\u001b[39mДілення: \u001b[39m\u001b[39m{\u001b[39;00mdivision_result\u001b[39m}\u001b[39;00m\u001b[39m\"\u001b[39m)\n",
            "\u001b[1;31mZeroDivisionError\u001b[0m: division by zero"
          ]
        }
      ],
      "source": [
        "bool_var1 = True\n",
        "bool_var2 = False\n",
        "\n",
        "# Додавання\n",
        "sum_result = bool_var1 + bool_var2\n",
        "print(f\"Додавання: {sum_result}\")\n",
        "\n",
        "# Віднімання\n",
        "subtraction_result = bool_var1 - bool_var2\n",
        "print(f\"Віднімання: {subtraction_result}\")\n",
        "\n",
        "# Множення\n",
        "multiplication_result = bool_var1 * bool_var2\n",
        "print(f\"Множення: {multiplication_result}\")\n",
        "\n",
        "# Ділення\n",
        "division_result = bool_var1 / bool_var2\n",
        "print(f\"Ділення: {division_result}\")\n",
        "\n",
        "\n"
      ]
    },
    {
      "cell_type": "markdown",
      "metadata": {
        "id": "1kBClKgPzZnC"
      },
      "source": [
        "7. Використовуючи змінні з вправи 3, продемонструйте механізм явного перетворення типів, де числа з рухомою комою перетворюються на цілі числа."
      ]
    },
    {
      "cell_type": "code",
      "execution_count": null,
      "metadata": {
        "id": "akcVeUWYzlpb"
      },
      "outputs": [
        {
          "name": "stdout",
          "output_type": "stream",
          "text": [
            "Число з рухомою комою: 3.14\n",
            "Ціле число після перетворення: 3\n"
          ]
        }
      ],
      "source": [
        "float_number = 3.14\n",
        "\n",
        "# Явне перетворення на ціле число\n",
        "int_number = int(float_number)\n",
        "\n",
        "print(f\"Число з рухомою комою: {float_number}\")\n",
        "print(f\"Ціле число після перетворення: {int_number}\")\n"
      ]
    },
    {
      "cell_type": "markdown",
      "metadata": {
        "id": "GYVqN9uP1D4n"
      },
      "source": [
        "# III. Робота зі списками."
      ]
    },
    {
      "cell_type": "markdown",
      "metadata": {
        "id": "7-DeDunw2sO-"
      },
      "source": [
        "8. Створити список двома різними за синтаксисом способами. За допомогою вбудованої функції обчисліть довжину одного з них."
      ]
    },
    {
      "cell_type": "code",
      "execution_count": null,
      "metadata": {
        "id": "jY07arjK21hH"
      },
      "outputs": [
        {
          "name": "stdout",
          "output_type": "stream",
          "text": [
            "Список 1: [1, 2, 3, 4, 5]\n",
            "Довжина списку 1: 5\n",
            "Список 2: ['a', 'b', 'c', 'd', 'e', 'f']\n",
            "Довжина списку 2: 6\n"
          ]
        }
      ],
      "source": [
        "list1 = [1, 2, 3, 4, 5]\n",
        "\n",
        "# Обчислення довжини списку\n",
        "length1 = len(list1)\n",
        "\n",
        "# Виведення результату\n",
        "print(f\"Список 1: {list1}\")\n",
        "print(f\"Довжина списку 1: {length1}\")\n",
        "\n",
        "# Створення списку за допомогою функції list()\n",
        "list2 = list(\"abcdef\")\n",
        "\n",
        "# Обчислення довжини списку\n",
        "length2 = len(list2)\n",
        "\n",
        "print(f\"Список 2: {list2}\")\n",
        "print(f\"Довжина списку 2: {length2}\")\n"
      ]
    },
    {
      "cell_type": "markdown",
      "metadata": {
        "id": "8vmGUTjL22gI"
      },
      "source": [
        "9. Створіть два списка та за допомогою спеціального методу додайте другий з них в якості останнього елемента першого."
      ]
    },
    {
      "cell_type": "code",
      "execution_count": null,
      "metadata": {
        "id": "DSP6lO_m4cdV"
      },
      "outputs": [
        {
          "name": "stdout",
          "output_type": "stream",
          "text": [
            "Список 1 після додавання списку 2: [1, 2, 3, [4, 5, 6]]\n"
          ]
        }
      ],
      "source": [
        "# Створення двох списків\n",
        "list1 = [1, 2, 3]\n",
        "list2 = [4, 5, 6]\n",
        "\n",
        "# Додавання другого списку як останнього елемента першого\n",
        "list1.extend([list2])\n",
        "\n",
        "# Виведення результату\n",
        "print(f\"Список 1 після додавання списку 2: {list1}\")\n"
      ]
    },
    {
      "cell_type": "markdown",
      "metadata": {
        "id": "6ke6ng2j4dtq"
      },
      "source": [
        "10. Створіть два списка та за допомогою спеціального методу \"розширте\" перший (додайте всі елементи другого в кінець першого списку). Напишіть, чим відрізняються методи в завданні 9 та 10."
      ]
    },
    {
      "cell_type": "code",
      "execution_count": null,
      "metadata": {
        "id": "DVJVvu494q8d"
      },
      "outputs": [
        {
          "name": "stdout",
          "output_type": "stream",
          "text": [
            "Список 1 після розширення списку 2: [1, 2, 3, 4, 5, 6]\n"
          ]
        }
      ],
      "source": [
        "list1 = [1, 2, 3]\n",
        "list2 = [4, 5, 6]\n",
        "\n",
        "# Розширення першого списку другим\n",
        "list1 += list2\n",
        "\n",
        "print(f\"Список 1 після розширення списку 2: {list1}\")\n"
      ]
    },
    {
      "cell_type": "markdown",
      "metadata": {
        "id": "LvEs8TGo6CaT"
      },
      "source": [
        "*місце для відповіді*"
      ]
    },
    {
      "cell_type": "markdown",
      "metadata": {
        "id": "iu_NyJeR4vOu"
      },
      "source": [
        "11. Створіть список та відсортуйте його так, щоб:\n",
        "а) його id залишився незмінним після сортування.\n",
        "б) результат сортування був збережений у нову змінну. Підказка: для одного пункту використовуйте вбудовану функцію стортування, а в іншому - спеціальний метод для роботи зі списками."
      ]
    },
    {
      "cell_type": "code",
      "execution_count": null,
      "metadata": {
        "id": "LWdiIkDj5Nxo"
      },
      "outputs": [
        {
          "name": "stdout",
          "output_type": "stream",
          "text": [
            "Початковий список: [3, 1, 4, 1, 5, 9, 2, 6, 5, 3, 5]\n",
            "Список після сортування за id: [1, 1, 2, 3, 3, 4, 5, 5, 5, 6, 9]\n"
          ]
        }
      ],
      "source": [
        "#a\n",
        "my_list = [3, 1, 4, 1, 5, 9, 2, 6, 5, 3, 5]\n",
        "\n",
        "# Сортування за id\n",
        "sorted_list_a = sorted(my_list, key=id)\n",
        "\n",
        "print(f\"Початковий список: {my_list}\")\n",
        "print(f\"Список після сортування за id: {sorted_list_a}\")\n"
      ]
    },
    {
      "cell_type": "code",
      "execution_count": null,
      "metadata": {
        "id": "JHl9vlFa5bHt"
      },
      "outputs": [
        {
          "name": "stdout",
          "output_type": "stream",
          "text": [
            "Початковий список: [3, 1, 4, 1, 5, 9, 2, 6, 5, 3, 5]\n",
            "Список після сортування та збереження у нову змінну: [1, 1, 2, 3, 3, 4, 5, 5, 5, 6, 9]\n"
          ]
        }
      ],
      "source": [
        "# b\n",
        "my_list = [3, 1, 4, 1, 5, 9, 2, 6, 5, 3, 5]\n",
        "\n",
        "# Сортування та збереження результату у нову змінну\n",
        "sorted_list_b = sorted(my_list)\n",
        "\n",
        "print(f\"Початковий список: {my_list}\")\n",
        "print(f\"Список після сортування та збереження у нову змінну: {sorted_list_b}\")\n"
      ]
    },
    {
      "cell_type": "markdown",
      "metadata": {
        "id": "1l80guua5bia"
      },
      "source": [
        "12. Створіть список з елементами різного типу, де деякі значення елементів повторюються. За допомогою спеціального методу порахуйте кількість значень одного з елементів на Ваш вибір. Результат виведіть на екран."
      ]
    },
    {
      "cell_type": "code",
      "execution_count": null,
      "metadata": {
        "id": "tWFdczmv5z5Q"
      },
      "outputs": [
        {
          "name": "stdout",
          "output_type": "stream",
          "text": [
            "Початковий список: [1, 'apple', 3.14, True, 'apple', 42, 'banana', True, 'apple']\n",
            "Кількість значень 'apple' у списку: 3\n"
          ]
        }
      ],
      "source": [
        "my_list = [1, 'apple', 3.14, True, 'apple', 42, 'banana', True, 'apple']\n",
        "\n",
        "# Підрахунок кількості значень 'apple'\n",
        "count_of_apple = my_list.count('apple')\n",
        "\n",
        "print(f\"Початковий список: {my_list}\")\n",
        "print(f\"Кількість значень 'apple' у списку: {count_of_apple}\")\n"
      ]
    },
    {
      "cell_type": "markdown",
      "metadata": {
        "id": "pCjR1dJb1Qbi"
      },
      "source": [
        "# IV. Робота з кортежами."
      ]
    },
    {
      "cell_type": "markdown",
      "metadata": {
        "id": "te3MAUYq28TV"
      },
      "source": [
        "13. Створити список з один типом елементів та на основі цього списку створити кортеж."
      ]
    },
    {
      "cell_type": "code",
      "execution_count": null,
      "metadata": {
        "id": "uq3O114R2_H1"
      },
      "outputs": [
        {
          "name": "stdout",
          "output_type": "stream",
          "text": [
            "Список: [1, 2, 3, 4, 5]\n",
            "Кортеж: (1, 2, 3, 4, 5)\n"
          ]
        }
      ],
      "source": [
        "my_list = [1, 2, 3, 4, 5]\n",
        "\n",
        "# Створення кортежу на основі списку\n",
        "my_tuple = tuple(my_list)\n",
        "\n",
        "print(f\"Список: {my_list}\")\n",
        "print(f\"Кортеж: {my_tuple}\")\n"
      ]
    },
    {
      "cell_type": "markdown",
      "metadata": {
        "id": "fAZCxAX06R_k"
      },
      "source": [
        "14. Створити кортеж з один елементом."
      ]
    },
    {
      "cell_type": "code",
      "execution_count": null,
      "metadata": {
        "id": "-QWjudqk6kHd"
      },
      "outputs": [
        {
          "name": "stdout",
          "output_type": "stream",
          "text": [
            "Кортеж з одним елементом: (42,)\n"
          ]
        }
      ],
      "source": [
        "# Створення кортежу з одним елементом\n",
        "element = (42,)\n",
        "\n",
        "print(f\"Кортеж з одним елементом: {element}\")\n"
      ]
    },
    {
      "cell_type": "markdown",
      "metadata": {
        "id": "VfTSJwQF7djZ"
      },
      "source": [
        "15. Створити кортеж. Вивести на екран всі доступні його атрибути та методи."
      ]
    },
    {
      "cell_type": "code",
      "execution_count": null,
      "metadata": {
        "id": "x9elcFfr774r"
      },
      "outputs": [
        {
          "name": "stdout",
          "output_type": "stream",
          "text": [
            "Атрибути кортежу: ['__add__', '__class__', '__class_getitem__', '__contains__', '__delattr__', '__dir__', '__doc__', '__eq__', '__format__', '__ge__', '__getattribute__', '__getitem__', '__getnewargs__', '__gt__', '__hash__', '__init__', '__init_subclass__', '__iter__', '__le__', '__len__', '__lt__', '__mul__', '__ne__', '__new__', '__reduce__', '__reduce_ex__', '__repr__', '__rmul__', '__setattr__', '__sizeof__', '__str__', '__subclasshook__', 'count', 'index']\n"
          ]
        }
      ],
      "source": [
        "my_tuple = (1, 2, 3)\n",
        "\n",
        "# Виведення доступних атрибутів та методів\n",
        "print(f\"Атрибути кортежу: {dir(my_tuple)}\")\n"
      ]
    },
    {
      "cell_type": "markdown",
      "metadata": {
        "id": "8LCtYcmI6w1M"
      },
      "source": [
        "16. Порівняйте список та кортеж. Назвіть схожості та відмінності, випадки використання."
      ]
    },
    {
      "cell_type": "markdown",
      "metadata": {
        "id": "t9MwoWor7UVB"
      },
      "source": [
        "Мутабельність (змінюваність):\n",
        "Список: Списки є мутабельними, тобто їх можна змінювати (додавати, видаляти елементи) після їх створення.\n",
        "Кортеж: Кортежі є немутабельними, і їх не можна змінювати після створення.\n",
        "Синтаксис:\n",
        "Список: Створюється за допомогою квадратних дужок: [ ].\n",
        "Кортеж: Створюється за допомогою круглих дужок: ( ).\n",
        "Швидкість:\n",
        "Кортежі, як незмінні структури даних, можуть бути трохи швидшими за списки, особливо для операцій читання.\n",
        "Використання:\n",
        "Список: Зазвичай використовується там, де необхідно зберігати змінні дані, які можна змінювати (наприклад, колекції елементів, які можна модифікувати).\n",
        "Кортеж: Використовується там, де важлива незмінність даних (наприклад, як ключі словника або елементи множини), і коли необхідна оптимізація швидкості.\n",
        "Пам'ять:\n",
        "Кортежі зазвичай використовують менше пам'яті за рахунок своєї незмінності, але це може бути не так важливим для невеликих обсягів даних.\n",
        "Методи:\n",
        "Список: Має багато вбудованих методів, таких як append(), extend(), pop(), і т.д.\n",
        "Кортеж: Має менше методів через свою незмінність, але такі, як count() та index(), все ще доступні.\n",
        "Використання в ключах словників:\n",
        "Список: Не може використовуватися в якості ключів словника через свою мутабельність.\n",
        "Кортеж: Може використовуватися в якості ключів словника через свою незмінність.**місце для відповіді*"
      ]
    },
    {
      "cell_type": "markdown",
      "metadata": {
        "id": "QTP622J81iHk"
      },
      "source": [
        "# V. Індексування та слайсинг."
      ]
    },
    {
      "cell_type": "markdown",
      "metadata": {
        "id": "4dmeIU-N9gHy"
      },
      "source": [
        "17. Створіть список з 6ти елементів. Отримайте третій елемент за допомогою двох різних індексів."
      ]
    },
    {
      "cell_type": "code",
      "execution_count": null,
      "metadata": {
        "id": "47LTFhfH9pRe"
      },
      "outputs": [
        {
          "name": "stdout",
          "output_type": "stream",
          "text": [
            "Список: [10, 20, 30, 40, 50, 60]\n",
            "Третій елемент (за допомогою індексу 2): 30\n",
            "Третій елемент (за допомогою від'ємного індексу -4): 30\n"
          ]
        }
      ],
      "source": [
        "my_list = [10, 20, 30, 40, 50, 60]\n",
        "\n",
        "# Отримання третього елемента за допомогою індексу 2\n",
        "third_element1 = my_list[2]\n",
        "\n",
        "# Отримання третього елемента за допомогою від'ємного індексу -4\n",
        "third_element2 = my_list[-4]\n",
        "\n",
        "print(f\"Список: {my_list}\")\n",
        "print(f\"Третій елемент (за допомогою індексу 2): {third_element1}\")\n",
        "print(f\"Третій елемент (за допомогою від'ємного індексу -4): {third_element2}\")\n"
      ]
    },
    {
      "cell_type": "markdown",
      "metadata": {
        "id": "JC3BkD-67_--"
      },
      "source": [
        "18. Створіть список, де елементами цього списку також є списки. Отримай перший елемент з останнього рядка та виведи значення на екран."
      ]
    },
    {
      "cell_type": "code",
      "execution_count": null,
      "metadata": {
        "id": "ctR2jdq68cB0"
      },
      "outputs": [
        {
          "name": "stdout",
          "output_type": "stream",
          "text": [
            "Список з вкладеними списками: [[1, 2, 3], [4, 5, 6], [7, 8, 9]]\n",
            "Перший елемент з останнього рядка: 7\n"
          ]
        }
      ],
      "source": [
        "nested_list = [\n",
        "    [1, 2, 3],\n",
        "    [4, 5, 6],\n",
        "    [7, 8, 9]\n",
        "]\n",
        "\n",
        "# Отримання останнього рядка та його першого елемента\n",
        "last_row = nested_list[-1]\n",
        "first_element_last_row = last_row[0]\n",
        "\n",
        "print(f\"Список з вкладеними списками: {nested_list}\")\n",
        "print(f\"Перший елемент з останнього рядка: {first_element_last_row}\")\n"
      ]
    },
    {
      "cell_type": "markdown",
      "metadata": {
        "id": "A-hPrvOS8cjx"
      },
      "source": [
        "19. Створіть кортеж, що містить 8  елементів цілочисленного типу. Виведіть на екран три найменших значення."
      ]
    },
    {
      "cell_type": "code",
      "execution_count": null,
      "metadata": {
        "id": "GPxJKNUm8xHU"
      },
      "outputs": [
        {
          "name": "stdout",
          "output_type": "stream",
          "text": [
            "Кортеж: (8, 3, 6, 1, 9, 4, 2, 7)\n",
            "Три найменших значення: [1, 2, 3]\n"
          ]
        }
      ],
      "source": [
        "my_tuple = (8, 3, 6, 1, 9, 4, 2, 7)\n",
        "\n",
        "# Виведення трьох найменших значень\n",
        "three_smallest_values = sorted(my_tuple)[:3]\n",
        "\n",
        "print(f\"Кортеж: {my_tuple}\")\n",
        "print(f\"Три найменших значення: {three_smallest_values}\")\n"
      ]
    },
    {
      "cell_type": "markdown",
      "metadata": {
        "id": "JA47PKTv8zFK"
      },
      "source": [
        "20. Створіть список з десяти елементів різного типу. Отримайте всі елементи, окрім двох перших та двох останніх та збережіть їх в новій змінній."
      ]
    },
    {
      "cell_type": "code",
      "execution_count": null,
      "metadata": {
        "id": "g-GAQS_kAlmr"
      },
      "outputs": [
        {
          "name": "stdout",
          "output_type": "stream",
          "text": [
            "Початковий список: [1, 'apple', 3.14, True, 5, 'banana', 7, False, 'orange', 10]\n",
            "Новий список: [3.14, True, 5, 'banana', 7, False]\n"
          ]
        }
      ],
      "source": [
        "my_list = [1, 'apple', 3.14, True, 5, 'banana', 7, False, 'orange', 10]\n",
        "\n",
        "# Отримання всіх елементів, окрім двох перших та двох останніх\n",
        "new_list = my_list[2:-2]\n",
        "\n",
        "print(f\"Початковий список: {my_list}\")\n",
        "print(f\"Новий список: {new_list}\")\n"
      ]
    },
    {
      "cell_type": "markdown",
      "metadata": {
        "id": "m0xrwFijAmDD"
      },
      "source": [
        "21. Створіть кортеж з 11ти елементів чисел з рухомою комою та отримайте кожен парний за індексом елемент в зворотньому порядку. Наприклад, маючи (1.2, 2.3, 3.3, 4.3, 5.3, 6.3, 7.3, 8.3, 9.3, 0.3), отримати (0.3, 8.3, 6.3, 4.3, 2.3). Результат збережіть в нову змінну та виведіть на екран."
      ]
    },
    {
      "cell_type": "code",
      "execution_count": null,
      "metadata": {
        "id": "BQwYLEXdBVBo"
      },
      "outputs": [
        {
          "name": "stdout",
          "output_type": "stream",
          "text": [
            "Початковий кортеж: (1.2, 2.3, 3.3, 4.3, 5.3, 6.3, 7.3, 8.3, 9.3, 0.3, 11.3)\n",
            "Результат: (0.3, 8.3, 6.3, 4.3, 2.3)\n"
          ]
        }
      ],
      "source": [
        "# Створення кортежу з 11ти елементів чисел з рухомою комою\n",
        "my_tuple = (1.2, 2.3, 3.3, 4.3, 5.3, 6.3, 7.3, 8.3, 9.3, 0.3, 11.3)\n",
        "\n",
        "# Отримання кожного парного за індексом елемента в зворотньому порядку\n",
        "result_tuple = my_tuple[-2::-2]\n",
        "\n",
        "print(f\"Початковий кортеж: {my_tuple}\")\n",
        "print(f\"Результат: {result_tuple}\")\n"
      ]
    },
    {
      "cell_type": "markdown",
      "metadata": {
        "id": "F0ArvieRBZsG"
      },
      "source": [
        "# Вітаю! Ви велика(ий) молодець, що впоралась(вся). Похваліть себе та побалуйте чимось приємним. Я Вами пишаюся."
      ]
    }
  ],
  "metadata": {
    "colab": {
      "provenance": []
    },
    "kernelspec": {
      "display_name": "Python 3",
      "name": "python3"
    },
    "language_info": {
      "codemirror_mode": {
        "name": "ipython",
        "version": 3
      },
      "file_extension": ".py",
      "mimetype": "text/x-python",
      "name": "python",
      "nbconvert_exporter": "python",
      "pygments_lexer": "ipython3",
      "version": "3.10.5"
    }
  },
  "nbformat": 4,
  "nbformat_minor": 0
}
