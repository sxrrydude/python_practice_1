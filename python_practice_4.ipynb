{
  "cells": [
    {
      "cell_type": "markdown",
      "metadata": {
        "id": "-xM96SkgLNxS"
      },
      "source": [
        "# I. Functions. Arguments."
      ]
    },
    {
      "cell_type": "markdown",
      "metadata": {
        "id": "RFkkDC1jikAI"
      },
      "source": [
        "0. (5б) Назвіть 4 частини, з яких складається визначення функції."
      ]
    },
    {
      "cell_type": "code",
      "execution_count": 1,
      "metadata": {
        "id": "tV4xxWnFisqZ"
      },
      "outputs": [],
      "source": [
        "def my_function(parameter1, parameter2):\n",
        "    # Тіло функції\n",
        "    result = parameter1 + parameter2\n",
        "    return result\n",
        "\n",
        "#def - ключове слово визначення функції.\n",
        "#my_function - ім'я функції.\n",
        "#(parameter1, parameter2) - параметри функції.\n",
        "#result = parameter1 + parameter2 - тіло функції, яке виконує дії.\n",
        "#return result - оператор повернення, який повертає значення з функції."
      ]
    },
    {
      "cell_type": "markdown",
      "metadata": {
        "id": "mg6qjOB2LbVs"
      },
      "source": [
        "1. (4б) Визначте функцію, що приймає 2 аргументи та повертає результат ділення 1го аргумента на інший."
      ]
    },
    {
      "cell_type": "code",
      "execution_count": 2,
      "metadata": {
        "id": "lUbA_FWjKxQD"
      },
      "outputs": [],
      "source": [
        "def divide_numbers(number1, number2):\n",
        "    # Перевірка на ділення на 0\n",
        "    if number2 == 0:\n",
        "        print(\"Помилка: Ділення на 0 неможливе.\")\n",
        "        return None  # Повертаємо None у випадку помилки\n",
        "\n",
        "    result = number1 / number2\n",
        "    return result\n"
      ]
    },
    {
      "cell_type": "markdown",
      "metadata": {
        "id": "wMAYj2KXLpiJ"
      },
      "source": [
        "2. (2б) Викличте вище визначену функцію, де другий аргумент дорівнює 0."
      ]
    },
    {
      "cell_type": "code",
      "execution_count": 3,
      "metadata": {
        "id": "103jJj32Lo4Y"
      },
      "outputs": [
        {
          "name": "stdout",
          "output_type": "stream",
          "text": [
            "Помилка: Ділення на 0 неможливе.\n",
            "Результат ділення: None\n"
          ]
        }
      ],
      "source": [
        "result = divide_numbers(10, 0)\n",
        "print(\"Результат ділення:\", result)\n"
      ]
    },
    {
      "cell_type": "markdown",
      "metadata": {
        "id": "eT-pwEwPMD3T"
      },
      "source": [
        "3. (6б) Перевизначте функцію так, щоби у випадку ділення на 0 функція повертала None, а в решті випадків - результат розрахунків."
      ]
    },
    {
      "cell_type": "code",
      "execution_count": 4,
      "metadata": {
        "id": "1h6Jz7CKMTk_"
      },
      "outputs": [],
      "source": [
        "def divide_numbers(number1, number2):\n",
        "    try:\n",
        "        result = number1 / number2\n",
        "        return result\n",
        "    except ZeroDivisionError:\n",
        "        print(\"Помилка: Ділення на 0 неможливе.\")\n",
        "        return None\n",
        "\n"
      ]
    },
    {
      "cell_type": "markdown",
      "metadata": {
        "id": "iuTiofyDMVMG"
      },
      "source": [
        "4. (5б) Напишіть документацію (docstring) у форматі Google до функції, що має обчислювати суму двох чисел."
      ]
    },
    {
      "cell_type": "code",
      "execution_count": 5,
      "metadata": {
        "id": "a9E6iU_iNyYQ"
      },
      "outputs": [],
      "source": [
        "def calculate_sum(number1, number2):\n",
        "    \"\"\"\n",
        "    Обчислює суму двох чисел.\n",
        "\n",
        "    Parameters:\n",
        "    - number1 (int or float): Перше число для додавання.\n",
        "    - number2 (int or float): Друге число для додавання.\n",
        "\n",
        "    Returns:\n",
        "    - int or float: Сума чисел number1 та number2.\n",
        "\n",
        "    Examples:\n",
        "    >>> calculate_sum(3, 5)\n",
        "    8\n",
        "\n",
        "    >>> calculate_sum(2.5, 7.5)\n",
        "    10.0\n",
        "    \"\"\"\n",
        "    result = number1 + number2\n",
        "    return result\n"
      ]
    },
    {
      "cell_type": "markdown",
      "metadata": {
        "id": "ZvrsUQZFN5VT"
      },
      "source": [
        "5. (4б) Реалізуйте цю функцію (із додаванням docstring у визначення функції)."
      ]
    },
    {
      "cell_type": "code",
      "execution_count": 6,
      "metadata": {
        "id": "K5h3KTVuOBP3"
      },
      "outputs": [],
      "source": [
        "def calculate_sum(number1, number2):\n",
        "    \"\"\"\n",
        "    Обчислює суму двох чисел.\n",
        "\n",
        "    Parameters:\n",
        "    - number1 (int or float): Перше число для додавання.\n",
        "    - number2 (int or float): Друге число для додавання.\n",
        "\n",
        "    Returns:\n",
        "    - int or float: Сума чисел number1 та number2.\n",
        "\n",
        "    Examples:\n",
        "    >>> calculate_sum(3, 5)\n",
        "    8\n",
        "\n",
        "    >>> calculate_sum(2.5, 7.5)\n",
        "    10.0\n",
        "    \"\"\"\n",
        "    result = number1 + number2\n",
        "    return result\n"
      ]
    },
    {
      "cell_type": "markdown",
      "metadata": {
        "id": "IILi2wfYOwYb"
      },
      "source": [
        "6. (6б) Визначте функцію, що віднімає одне число від іншого (підказка: це буде 2 аргументи функції). При чому, якщо не визначити, скільки саме має бути віднято від числа, за замовчуванням має відніматися 1. Викличте функцію, передаючи тільки один аргумент."
      ]
    },
    {
      "cell_type": "code",
      "execution_count": 7,
      "metadata": {
        "id": "hybHnk8ROvxQ"
      },
      "outputs": [],
      "source": [
        "def subtract_numbers(number1, number2=1):\n",
        "    \"\"\"\n",
        "    Віднімає одне число від іншого.\n",
        "\n",
        "    Parameters:\n",
        "    - number1 (int or float): Число, від якого віднімається.\n",
        "    - number2 (int or float, optional): Число, яке віднімається. За замовчуванням 1.\n",
        "\n",
        "    Returns:\n",
        "    - int or float: Різниця чисел number1 та number2.\n",
        "\n",
        "    Examples:\n",
        "    >>> subtract_numbers(5, 3)\n",
        "    2\n",
        "\n",
        "    >>> subtract_numbers(10)\n",
        "    9\n",
        "    \"\"\"\n",
        "    result = number1 - number2\n",
        "    return result\n"
      ]
    },
    {
      "cell_type": "markdown",
      "metadata": {
        "id": "UK6o8zcuR7cH"
      },
      "source": [
        "7. (10б) Визначте функцію, яка приймає iterable (ітерабельний обʼєкт, напр. список), що складається з 7ми рядкових значень - назв погодних умов (напр. \"sunny\") за кожен день у тижні. Повертає функція словник, де ключами є рядки з погодними умовами, а значеннями - кількість разів, скільки дана погода була протягом тижня (напр. {'sunny': 1, ...})."
      ]
    },
    {
      "cell_type": "code",
      "execution_count": 8,
      "metadata": {
        "id": "3gkR5gl0SyYO"
      },
      "outputs": [],
      "source": [
        "def count_weather_occurrences(weather_conditions):\n",
        "    \"\"\"\n",
        "    Рахує кількість входжень кожної погодної умови за тиждень.\n",
        "\n",
        "    Parameters:\n",
        "    - weather_conditions (iterable of str): Список з 7 рядкових значень - погодних умов за кожен день у тижні.\n",
        "\n",
        "    Returns:\n",
        "    - dict: Словник, де ключами є рядки з погодними умовами, а значеннями - кількість входжень.\n",
        "\n",
        "    Example:\n",
        "    >>> count_weather_occurrences(['sunny', 'rainy', 'cloudy', 'sunny', 'windy', 'rainy', 'sunny'])\n",
        "    {'sunny': 3, 'rainy': 2, 'cloudy': 1, 'windy': 1}\n",
        "    \"\"\"\n",
        "    weather_count = {}\n",
        "    \n",
        "    for condition in weather_conditions:\n",
        "        if condition in weather_count:\n",
        "            weather_count[condition] += 1\n",
        "        else:\n",
        "            weather_count[condition] = 1\n",
        "    \n",
        "    return weather_count\n"
      ]
    },
    {
      "cell_type": "markdown",
      "metadata": {
        "id": "x4zhem_2Syf7"
      },
      "source": [
        "8. (3б) Викличте цю функцію тричі з різними аргументами та виведіть результати на екран."
      ]
    },
    {
      "cell_type": "code",
      "execution_count": 10,
      "metadata": {
        "id": "B0agh7urS0Fc"
      },
      "outputs": [
        {
          "name": "stdout",
          "output_type": "stream",
          "text": [
            "Результат 1: {'sunny': 3, 'rainy': 2, 'cloudy': 1, 'windy': 1}\n",
            "Результат 2: {'cloudy': 2, 'rainy': 2, 'snowy': 1, 'sunny': 1, 'windy': 1}\n",
            "Результат 3: {'sunny': 7}\n"
          ]
        }
      ],
      "source": [
        "weather_conditions_1 = ['sunny', 'rainy', 'cloudy', 'sunny', 'windy', 'rainy', 'sunny']\n",
        "weather_conditions_2 = ['cloudy', 'rainy', 'rainy', 'snowy', 'sunny', 'windy', 'cloudy']\n",
        "weather_conditions_3 = ['sunny', 'sunny', 'sunny', 'sunny', 'sunny', 'sunny', 'sunny']\n",
        "\n",
        "result_1 = count_weather_occurrences(weather_conditions_1)\n",
        "result_2 = count_weather_occurrences(weather_conditions_2)\n",
        "result_3 = count_weather_occurrences(weather_conditions_3)\n",
        "\n",
        "print(\"Результат 1:\", result_1)\n",
        "print(\"Результат 2:\", result_2)\n",
        "print(\"Результат 3:\", result_3)\n"
      ]
    },
    {
      "cell_type": "markdown",
      "metadata": {
        "id": "bLgviTMlUlNG"
      },
      "source": [
        "9. (15б) Напишіть програму, яка б шукала необхідне число у **впорядкованому** списку цілочислених значень, де\n",
        "\n",
        "\n",
        "1.   число має вводитись з консолі.\n",
        "2.   власне алгоритм пошуку винесений в окрему функцію, яка повертає булеве значення (знайдено число - True, не знайдено - False).\n",
        "3. в залежності від результату функції, виведіть на екран повідомлення про успішний або ж неуспішний пошук.\n",
        "\n",
        "\n",
        "**Зауваження**: використовувати оператор **in** заборонено."
      ]
    },
    {
      "cell_type": "code",
      "execution_count": 11,
      "metadata": {
        "id": "LAHz6MmdcWfP"
      },
      "outputs": [],
      "source": [
        "def binary_search(arr, target):\n",
        "    left, right = 0, len(arr) - 1\n",
        "\n",
        "    while left <= right:\n",
        "        mid = (left + right) // 2\n",
        "        mid_value = arr[mid]\n",
        "\n",
        "        if mid_value == target:\n",
        "            return True\n",
        "        elif mid_value < target:\n",
        "            left = mid + 1\n",
        "        else:\n",
        "            right = mid - 1\n",
        "\n",
        "    return False\n",
        "\n",
        "# Вхідні дані - впорядкований список цілих чисел\n",
        "sorted_numbers = [1, 2, 3, 4, 5, 6, 7, 8, 9, 10]\n",
        "\n",
        "# Введення числа з консолі\n",
        "try:\n",
        "    target_number = int(input(\"Введіть число для пошуку: \"))\n",
        "except ValueError:\n",
        "    print(\"Помилка введення. Будь ласка, введіть ціле число.\")\n",
        "    exit()\n",
        "\n",
        "# Виклик функції пошуку та виведення результату\n",
        "if binary_search(sorted_numbers, target_number):\n",
        "    print(f\"Число {target_number} знайдено у списку.\")\n",
        "else:\n",
        "    print(f\"Число {target_number} не знайдено у списку.\")\n"
      ]
    },
    {
      "cell_type": "markdown",
      "metadata": {
        "id": "wCKOEiKhLSld"
      },
      "source": [
        "# II. Lambda functions."
      ]
    },
    {
      "cell_type": "markdown",
      "metadata": {
        "id": "c4EBfW6QcXF7"
      },
      "source": [
        "10. (6б) Визначте анонімну функцію, що виконувала б завдання з задачі №1."
      ]
    },
    {
      "cell_type": "code",
      "execution_count": 1,
      "metadata": {
        "id": "sGgO6KjuhUj5"
      },
      "outputs": [
        {
          "name": "stdout",
          "output_type": "stream",
          "text": [
            "5.0\n",
            "None\n"
          ]
        }
      ],
      "source": [
        "divide_numbers = lambda x, y: x / y if y != 0 else None\n",
        "\n",
        "# Приклад виклику\n",
        "result = divide_numbers(10, 2)\n",
        "print(result)  # Виведе 5.0\n",
        "\n",
        "result = divide_numbers(10, 0)\n",
        "print(result)  # Виведе None\n"
      ]
    },
    {
      "cell_type": "markdown",
      "metadata": {
        "id": "fWa0efmRhepO"
      },
      "source": [
        "11. (5б) В яких випадках варто використовувати лямбда-функції?"
      ]
    },
    {
      "cell_type": "markdown",
      "metadata": {
        "id": "R68BViaPhad_"
      },
      "source": [
        "Короткочасні використання: Якщо функція використовується лише один раз, і вона невелика, лямбда-функція може зробити код більш компактним.\n",
        "\n",
        "Аргумент функції: Якщо функція передається як аргумент до іншої функції, і ця функція використовується лише один раз, лямбда-функція може бути зручнішою.\n",
        "\n",
        "Фільтрація та сортування: Лямбда-функції часто використовуються для визначення ключа при сортуванні або фільтрації даних.\n",
        "\n",
        "Прості операції: Лямбда-функції зручно використовувати для простих операцій, таких як вирази, що повертають значення, або короткі математичні операції.*місце для відповіді"
      ]
    },
    {
      "cell_type": "markdown",
      "metadata": {
        "id": "0CL6ikIkhU7j"
      },
      "source": [
        "12. (9б) Визначте список з рядками. Після цього визначте анонімну функцію для отримання першого символу у верхньому регістрі для кожного рядка списку.\n",
        "*Підказка*: використовуйте анонімну функцію в якості агрумента до вбудованої ф-ції, яка створена для застосування функцій над iterable обʼєктами.\n",
        "Результат виведіть на екран у вигляді кортежу."
      ]
    },
    {
      "cell_type": "code",
      "execution_count": 3,
      "metadata": {
        "id": "I1Lw2SSNhhJw"
      },
      "outputs": [
        {
          "name": "stdout",
          "output_type": "stream",
          "text": [
            "('A', 'B', 'C')\n"
          ]
        }
      ],
      "source": [
        "list_of_strings = [\"apple\", \"banana\", \"cherry\"]\n",
        "\n",
        "# Використання анонімної функції для отримання першого символу у верхньому регістрі\n",
        "result = tuple(map(lambda s: s[0].upper(), list_of_strings))\n",
        "\n",
        "print(result)\n"
      ]
    },
    {
      "cell_type": "markdown",
      "metadata": {
        "id": "rgGmGt67m5yi"
      },
      "source": [
        "# III. Decorators."
      ]
    },
    {
      "cell_type": "markdown",
      "metadata": {
        "id": "DZm1W0Qqncu8"
      },
      "source": [
        "13. (15б) Визначте декоратор, який би виводив у консоль повідомлення про початок роботи і назву функції, а після відпрацювання функції - повідомлення про закінчення роботи і назву функції, що задекорована."
      ]
    },
    {
      "cell_type": "code",
      "execution_count": 4,
      "metadata": {
        "id": "5s3X3F6soer0"
      },
      "outputs": [
        {
          "name": "stdout",
          "output_type": "stream",
          "text": [
            "Початок роботи example_function\n",
            "Виконання прикладної функції\n",
            "Закінчення роботи example_function\n"
          ]
        }
      ],
      "source": [
        "def my_decorator(func):\n",
        "    def wrapper(*args, **kwargs):\n",
        "        print(f\"Початок роботи {func.__name__}\")\n",
        "        result = func(*args, **kwargs)\n",
        "        print(f\"Закінчення роботи {func.__name__}\")\n",
        "        return result\n",
        "    return wrapper\n",
        "\n",
        "# Використання декоратора\n",
        "@my_decorator\n",
        "def example_function():\n",
        "    print(\"Виконання прикладної функції\")\n",
        "\n",
        "example_function()\n"
      ]
    },
    {
      "cell_type": "markdown",
      "metadata": {
        "id": "AlGt40oVofHB"
      },
      "source": [
        "14. (7б) Задекоруйте функції з завдання 3, 5 та 6 декоратором із завдання 13. *Примітка*: продемонструйте 2 способи, як можна задекорувати функції (**УВАГА**: не декоруйте функції двічі!)."
      ]
    },
    {
      "cell_type": "code",
      "execution_count": 5,
      "metadata": {
        "id": "hkxhoRVqo1AW"
      },
      "outputs": [
        {
          "name": "stdout",
          "output_type": "stream",
          "text": [
            "Початок роботи divide_numbers\n",
            "Закінчення роботи divide_numbers\n",
            "5.0\n",
            "Початок роботи sum_of_numbers\n",
            "Закінчення роботи sum_of_numbers\n",
            "12\n",
            "Початок роботи arithmetic_operations\n",
            "Закінчення роботи arithmetic_operations\n",
            "{'додавання': 11, 'віднімання': 5, 'множення': 24, 'ділення': 2.6666666666666665}\n",
            "Початок роботи divide_numbers\n",
            "Закінчення роботи divide_numbers\n",
            "5.0\n",
            "Початок роботи sum_of_numbers\n",
            "Закінчення роботи sum_of_numbers\n",
            "12\n",
            "Початок роботи arithmetic_operations\n",
            "Закінчення роботи arithmetic_operations\n",
            "{'додавання': 11, 'віднімання': 5, 'множення': 24, 'ділення': 2.6666666666666665}\n"
          ]
        }
      ],
      "source": [
        "@my_decorator\n",
        "def divide_numbers(a, b):\n",
        "    \"\"\"Функція, що ділить одне число на інше.\"\"\"\n",
        "    return a / b if b != 0 else None\n",
        "\n",
        "@my_decorator\n",
        "def sum_of_numbers(x, y):\n",
        "    \"\"\"Функція, що обчислює суму двох чисел.\"\"\"\n",
        "    return x + y\n",
        "\n",
        "@my_decorator\n",
        "def arithmetic_operations(a, b):\n",
        "    \"\"\"Функція, що виконує різні арифметичні операції.\"\"\"\n",
        "    return {\n",
        "        'додавання': a + b,\n",
        "        'віднімання': a - b,\n",
        "        'множення': a * b,\n",
        "        'ділення': a / b if b != 0 else None\n",
        "    }\n",
        "\n",
        "# Виклики функцій\n",
        "print(divide_numbers(10, 2))\n",
        "print(sum_of_numbers(5, 7))\n",
        "print(arithmetic_operations(8, 3))\n",
        "\n",
        "\n",
        "def divide_numbers(a, b):\n",
        "    \"\"\"Функція, що ділить одне число на інше.\"\"\"\n",
        "    return a / b if b != 0 else None\n",
        "\n",
        "def sum_of_numbers(x, y):\n",
        "    \"\"\"Функція, що обчислює суму двох чисел.\"\"\"\n",
        "    return x + y\n",
        "\n",
        "def arithmetic_operations(a, b):\n",
        "    \"\"\"Функція, що виконує різні арифметичні операції.\"\"\"\n",
        "    return {\n",
        "        'додавання': a + b,\n",
        "        'віднімання': a - b,\n",
        "        'множення': a * b,\n",
        "        'ділення': a / b if b != 0 else None\n",
        "    }\n",
        "\n",
        "# Застосування декоратора після визначення функції\n",
        "divide_numbers = my_decorator(divide_numbers)\n",
        "sum_of_numbers = my_decorator(sum_of_numbers)\n",
        "arithmetic_operations = my_decorator(arithmetic_operations)\n",
        "\n",
        "# Виклики функцій\n",
        "print(divide_numbers(10, 2))\n",
        "print(sum_of_numbers(5, 7))\n",
        "print(arithmetic_operations(8, 3))\n"
      ]
    },
    {
      "cell_type": "markdown",
      "metadata": {
        "id": "6QkS0Kxzo4UR"
      },
      "source": [
        "15. (2б) Викличте одну з задекорованих функцій і виведіть її результат на екран."
      ]
    },
    {
      "cell_type": "code",
      "execution_count": 6,
      "metadata": {
        "id": "BCCCPai6o-y5"
      },
      "outputs": [
        {
          "name": "stdout",
          "output_type": "stream",
          "text": [
            "Початок роботи arithmetic_operations\n",
            "Закінчення роботи arithmetic_operations\n",
            "Результат виклику задекорованої функції:\n",
            "{'додавання': 11, 'віднімання': 5, 'множення': 24, 'ділення': 2.6666666666666665}\n"
          ]
        }
      ],
      "source": [
        "result = arithmetic_operations(8, 3)\n",
        "print(\"Результат виклику задекорованої функції:\")\n",
        "print(result)\n"
      ]
    },
    {
      "cell_type": "markdown",
      "metadata": {
        "id": "CSN0Q5pMQVNQ"
      },
      "source": [
        "# Вітаю! Ви велика(ий) молодець, що впоралась(вся). Похваліть себе та побалуйте чимось приємним. Я Вами пишаюся."
      ]
    }
  ],
  "metadata": {
    "colab": {
      "provenance": []
    },
    "kernelspec": {
      "display_name": "Python 3",
      "name": "python3"
    },
    "language_info": {
      "codemirror_mode": {
        "name": "ipython",
        "version": 3
      },
      "file_extension": ".py",
      "mimetype": "text/x-python",
      "name": "python",
      "nbconvert_exporter": "python",
      "pygments_lexer": "ipython3",
      "version": "3.10.5"
    }
  },
  "nbformat": 4,
  "nbformat_minor": 0
}
