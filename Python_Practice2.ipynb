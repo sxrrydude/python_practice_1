{
  "cells": [
    {
      "cell_type": "markdown",
      "metadata": {
        "id": "EVJ7AflwxrZi"
      },
      "source": [
        "# I. Рядки (String)."
      ]
    },
    {
      "cell_type": "markdown",
      "metadata": {
        "id": "_s5ECzz9zE61"
      },
      "source": [
        "1. Створити пустий рядок двома різними способами."
      ]
    },
    {
      "cell_type": "code",
      "execution_count": 1,
      "metadata": {
        "id": "HsDOUUMWxo6D"
      },
      "outputs": [],
      "source": [
        "string1 = ''\n",
        "\n",
        "string2 = str()\n"
      ]
    },
    {
      "cell_type": "markdown",
      "metadata": {
        "id": "4Bdn9J3MzLf_"
      },
      "source": [
        "2. Створити рядок з апострофом."
      ]
    },
    {
      "cell_type": "code",
      "execution_count": 2,
      "metadata": {
        "id": "OjyFU0iKzPc2"
      },
      "outputs": [],
      "source": [
        "string = 'апостроф: \\''\n"
      ]
    },
    {
      "cell_type": "markdown",
      "metadata": {
        "id": "qj7LjXFazbx1"
      },
      "source": [
        "3. Створити рядок з символом переходу на новий рядок та роздрукувати його в консоль."
      ]
    },
    {
      "cell_type": "code",
      "execution_count": 3,
      "metadata": {
        "id": "K9J-tLXczmyo"
      },
      "outputs": [
        {
          "name": "stdout",
          "output_type": "stream",
          "text": [
            "Це рядок з переходом на новий рядок.\n",
            "Другий рядок починається тут.\n"
          ]
        }
      ],
      "source": [
        "# Створення рядка з символом переходу на новий рядок\n",
        "string = \"Це рядок з переходом на новий рядок.\\nДругий рядок починається тут.\"\n",
        "\n",
        "print(string)\n"
      ]
    },
    {
      "cell_type": "markdown",
      "metadata": {
        "id": "XEYGh-BGzzfD"
      },
      "source": [
        "4. Зробити рядок з завдання №3 \"сирим\"(raw), вивести в консоль та порівняти з результатом в попередному завданні."
      ]
    },
    {
      "cell_type": "code",
      "execution_count": 6,
      "metadata": {
        "id": "0Mb7qYqgzntd"
      },
      "outputs": [
        {
          "name": "stdout",
          "output_type": "stream",
          "text": [
            "Це рядок з переходом на новий рядок.\\nДругий рядок починається тут.\n"
          ]
        }
      ],
      "source": [
        "# Створення \"сирого\" рядка з символом переходу на новий рядок\n",
        "raw_string = r\"Це рядок з переходом на новий рядок.\\nДругий рядок починається тут.\"\n",
        "\n",
        "print(raw_string)\n"
      ]
    },
    {
      "cell_type": "markdown",
      "metadata": {
        "id": "xLM76Cnfz3T_"
      },
      "source": [
        "*місце для коментарів щодо результатів порівняння"
      ]
    },
    {
      "cell_type": "markdown",
      "metadata": {
        "id": "bg_d8wM4z8dS"
      },
      "source": [
        "5. Створити змінну, що буде посилатися на Ваше прізвище латинкою. Створити форматований рядок, який буде мати вигляд \"My surname is ______\", де на місці нижніх підкреслень буде Ваше прізвище зі змінної."
      ]
    },
    {
      "cell_type": "code",
      "execution_count": 5,
      "metadata": {
        "id": "Cr847KKpz7zF"
      },
      "outputs": [
        {
          "name": "stdout",
          "output_type": "stream",
          "text": [
            "My surname is GPT\n"
          ]
        }
      ],
      "source": [
        "# Створення змінної, що посилається на прізвище\n",
        "surname = \"GPT\"\n",
        "\n",
        "# Створення форматованого рядка\n",
        "formatted_string = f\"My surname is {surname}\"\n",
        "\n",
        "print(formatted_string)\n"
      ]
    },
    {
      "cell_type": "markdown",
      "metadata": {
        "id": "1Nc6RqvQ0hxU"
      },
      "source": [
        "6. Маючи рядок \"My dog is crazy.\" перетворити його на список [\"my\", \"dog\", \"is\", \"crazy\"]"
      ]
    },
    {
      "cell_type": "code",
      "execution_count": 4,
      "metadata": {
        "id": "dGU4MImR063l"
      },
      "outputs": [
        {
          "name": "stdout",
          "output_type": "stream",
          "text": [
            "['My', 'dog', 'is', 'crazy.']\n"
          ]
        }
      ],
      "source": [
        "# Заданий рядок\n",
        "string = \"My dog is crazy.\"\n",
        "\n",
        "# Перетворення рядка на список\n",
        "word_list = string.split()\n",
        "\n",
        "print(word_list)\n"
      ]
    },
    {
      "cell_type": "markdown",
      "metadata": {
        "id": "rW_I9dt3x6cW"
      },
      "source": [
        "# II. Множини (Set)."
      ]
    },
    {
      "cell_type": "markdown",
      "metadata": {
        "id": "zNjRLHLw1Bgg"
      },
      "source": [
        "7. Створити множину без елементів. Після цого за допомогою методу додайте кілька різних елементів до множини. Чи множини є змінним типом даних?"
      ]
    },
    {
      "cell_type": "code",
      "execution_count": 7,
      "metadata": {
        "id": "CB72VZWZ1A7c"
      },
      "outputs": [
        {
          "name": "stdout",
          "output_type": "stream",
          "text": [
            "{3.14, 1, 'apple'}\n"
          ]
        }
      ],
      "source": [
        "# Створення порожньої множини\n",
        "my_set = set()\n",
        "\n",
        "# Додавання різних елементів до множини\n",
        "my_set.add(1)\n",
        "my_set.add('apple')\n",
        "my_set.add(3.14)\n",
        "\n",
        "print(my_set)\n"
      ]
    },
    {
      "cell_type": "markdown",
      "metadata": {
        "id": "tqxtcfgK4Wkx"
      },
      "source": [
        "Вони можуть змінюватися, і ви можете додавати, видаляти елементи або використовувати інші методи, щоб змінювати їх вміст. Змінювані об'єкти можна модифікувати після їх створення. У виведенні результату ви побачите множину, яка містить додані елементи."
      ]
    },
    {
      "cell_type": "markdown",
      "metadata": {
        "id": "gHpT0Zw_1HEF"
      },
      "source": [
        "8. Створити множину, маючи список my_list = [1, 1, 2, 67, 67, 8, 9]. Пояснити, чому \"зникли\" деякі елементи."
      ]
    },
    {
      "cell_type": "code",
      "execution_count": 8,
      "metadata": {
        "id": "U5YnFsPp1OCU"
      },
      "outputs": [
        {
          "name": "stdout",
          "output_type": "stream",
          "text": [
            "{1, 2, 67, 8, 9}\n"
          ]
        }
      ],
      "source": [
        "# Створення списку\n",
        "my_list = [1, 1, 2, 67, 67, 8, 9]\n",
        "\n",
        "# Створення множини зі списку\n",
        "my_set = set(my_list)\n",
        "\n",
        "print(my_set)\n"
      ]
    },
    {
      "cell_type": "markdown",
      "metadata": {
        "id": "SRMkGizS1UwY"
      },
      "source": [
        "9. Створіть дві множини. Продемонстуйте над ними операції: обʼєднання, різниці, пересічі та симетричної різниці. Використовуйте методи, що не змінюють множини, а створюють нові."
      ]
    },
    {
      "cell_type": "code",
      "execution_count": 10,
      "metadata": {
        "id": "pj5ta1CS2LAa"
      },
      "outputs": [
        {
          "name": "stdout",
          "output_type": "stream",
          "text": [
            "Множина 1: {1, 2, 3, 4, 5}\n",
            "Множина 2: {3, 4, 5, 6, 7}\n",
            "Об'єднання: {1, 2, 3, 4, 5, 6, 7}\n",
            "Різниця: {1, 2}\n",
            "Перетин: {3, 4, 5}\n",
            "Симетрична різниця: {1, 2, 6, 7}\n"
          ]
        }
      ],
      "source": [
        "set1 = {1, 2, 3, 4, 5}\n",
        "set2 = {3, 4, 5, 6, 7}\n",
        "\n",
        "# Об'єднання множин\n",
        "union_set = set1.union(set2)\n",
        "\n",
        "# Різниця множин\n",
        "difference_set = set1.difference(set2)\n",
        "\n",
        "# Перетин множин\n",
        "intersection_set = set1.intersection(set2)\n",
        "\n",
        "# Симетрична різниця множин\n",
        "symmetric_difference_set = set1.symmetric_difference(set2)\n",
        "\n",
        "print(\"Множина 1:\", set1)\n",
        "print(\"Множина 2:\", set2)\n",
        "print(\"Об'єднання:\", union_set)\n",
        "print(\"Різниця:\", difference_set)\n",
        "print(\"Перетин:\", intersection_set)\n",
        "print(\"Симетрична різниця:\", symmetric_difference_set)\n"
      ]
    },
    {
      "cell_type": "markdown",
      "metadata": {
        "id": "ECo4rGAW2e4S"
      },
      "source": [
        "10. Створіть множину з пʼяти елементів. За допомогою спеціального методу, вилучіть три елементи один за одним з множини. Чи може гарантуватися порядок елементів у множинах?"
      ]
    },
    {
      "cell_type": "code",
      "execution_count": 11,
      "metadata": {
        "id": "tCoJigA-4Ryd"
      },
      "outputs": [
        {
          "name": "stdout",
          "output_type": "stream",
          "text": [
            "{2, 4}\n"
          ]
        }
      ],
      "source": [
        "my_set = {1, 2, 3, 4, 5}\n",
        "\n",
        "# Вилучення трьох елементів\n",
        "my_set.remove(1)\n",
        "my_set.discard(3)\n",
        "my_set.discard(5)\n",
        "\n",
        "print(my_set)\n"
      ]
    },
    {
      "cell_type": "markdown",
      "metadata": {
        "id": "t7f5oKmP2qum"
      },
      "source": [
        " порядок елементів в множині не гарантується і не зберігається*місце для відповіді"
      ]
    },
    {
      "cell_type": "markdown",
      "metadata": {
        "id": "kWc8gkzTx7Ea"
      },
      "source": [
        "# III. Словники (Dictionary)."
      ]
    },
    {
      "cell_type": "markdown",
      "metadata": {
        "id": "FHIRdwck2uji"
      },
      "source": [
        "11. Створіть пустий словник двома способами."
      ]
    },
    {
      "cell_type": "code",
      "execution_count": 12,
      "metadata": {
        "id": "sF2WCzwJ2yDq"
      },
      "outputs": [],
      "source": [
        "empty_dict1 = {}\n",
        "\n",
        "empty_dict2 = dict()\n"
      ]
    },
    {
      "cell_type": "markdown",
      "metadata": {
        "id": "i5FLwj-B2ybQ"
      },
      "source": [
        "12. До одного зі словників вище додайте чотири пари елементів такі, щоб їхні ключі були різних типів."
      ]
    },
    {
      "cell_type": "code",
      "execution_count": 16,
      "metadata": {
        "id": "lqunD0EZ2_Vg"
      },
      "outputs": [
        {
          "name": "stdout",
          "output_type": "stream",
          "text": [
            "{'name': 'John', 42: 'never', 3.14: 'Pi', ('a', 'b'): 'Tuple'}\n"
          ]
        }
      ],
      "source": [
        "# Створення пустого словника\n",
        "my_dict = {}\n",
        "\n",
        "# Додавання чотирьох пар елементів\n",
        "my_dict[\"name\"] = \"John\"\n",
        "my_dict[42] = \"never\"\n",
        "my_dict[3.14] = \"Pi\"\n",
        "my_dict[(\"a\", \"b\")] = \"Tuple\"\n",
        "\n",
        "print(my_dict)\n"
      ]
    },
    {
      "cell_type": "markdown",
      "metadata": {
        "id": "XOD2Aaj13Bqx"
      },
      "source": [
        "*чи може список бути ключем? а значенням? чому?"
      ]
    },
    {
      "cell_type": "markdown",
      "metadata": {
        "id": "9Tjhmuf73KE6"
      },
      "source": [
        "13. Використовуючи той самий словник, отримайте по ключу будь-яке значення з наявних. Тепер видаліть цю пару ключ-значення. Спробуйте знову отримати значення по цьому ж ключу. Використовуючи спеціальний метод, виправте помилку."
      ]
    },
    {
      "cell_type": "code",
      "execution_count": 14,
      "metadata": {
        "id": "cNMenuGQ3JMa"
      },
      "outputs": [
        {
          "name": "stdout",
          "output_type": "stream",
          "text": [
            "Значення по ключу 'name': John\n",
            "Значення після видалення: Значення відсутнє\n"
          ]
        }
      ],
      "source": [
        "# Отримання значення по ключу\n",
        "value = my_dict[\"name\"]\n",
        "print(\"Значення по ключу 'name':\", value)\n",
        "\n",
        "# Видалення пари ключ-значення\n",
        "del my_dict[\"name\"]\n",
        "\n",
        "# Спроба отримати значення після видалення (спричинить помилку)\n",
        "# value_after_deletion = my_dict[\"name\"]  \n",
        "\n",
        "# Використання методу get() для уникнення помилки\n",
        "value_after_deletion = my_dict.get(\"name\", \"Значення відсутнє\")\n",
        "print(\"Значення після видалення:\", value_after_deletion)\n"
      ]
    },
    {
      "cell_type": "markdown",
      "metadata": {
        "id": "SLtQabwUx7Xc"
      },
      "source": [
        "# IV. Оператори порівняння та логічні оператори. Умови."
      ]
    },
    {
      "cell_type": "markdown",
      "metadata": {
        "id": "SrehzC-n3-ln"
      },
      "source": [
        "14. Створіть цілочисленну змінну зі своїм щасливим або улюбленим числом. Напишіть код, який би автоматизовував наступну задачу.\n",
        "\n",
        "Якщо число парне, помножте його на 2 та виведіть результат на екран.\n",
        "\n",
        "Але якщо число непарне, помножте його на 3 та додайте 1 і виведіть на екран.\n"
      ]
    },
    {
      "cell_type": "code",
      "execution_count": 15,
      "metadata": {
        "id": "g0cchKGl3-Gq"
      },
      "outputs": [
        {
          "name": "stdout",
          "output_type": "stream",
          "text": [
            "Для числа 7:\n",
            "Якщо парне, то помножте на 2: 14\n",
            "Якщо непарне, то помножте на 3 та додайте 1: 22\n"
          ]
        }
      ],
      "source": [
        "# Задання улюбленого числа\n",
        "number = 7\n",
        "\n",
        "# Перевірка на парність чи непарність та виконання відповідної операції\n",
        "if number % 2 == 0:\n",
        "    result = number * 2\n",
        "else:\n",
        "    result = number * 3 + 1\n",
        "\n",
        "print(f\"Для числа {number}:\")\n",
        "print(f\"Якщо парне, то помножте на 2: {number * 2}\")\n",
        "print(f\"Якщо непарне, то помножте на 3 та додайте 1: {result}\")\n"
      ]
    },
    {
      "cell_type": "markdown",
      "metadata": {
        "id": "PRXLVdU26E5Z"
      },
      "source": [
        "15. Створіть рядок зі своїм імʼям латинкою. Напишіть код, який би автоматизовував наступну задачу.\n",
        "\n",
        "Якщо в імені є літера \"а\"\n",
        " або \"i\", Виведіть на екран повідомлення \"A or I is in the name\".\n",
        "\n",
        "\n",
        "\n",
        "Якщо в імені є літери \"o\" та \"n\", Виведіть на екран повідомлення \"O and N is in the name\".\n",
        "\n",
        "Також якщо в імені немає літери \"о\", але є \"n\", Виведіть на екран повідомлення \"Only N is in the name\".\n",
        "\n",
        "В решті випадків виведіть на екран повідомлення \"There is no N in the name, but there might be O\".\n",
        "\n",
        "Зверніть увагу, що, наприклад, для імені \"Antonina\" буде виведено два повідомлення."
      ]
    },
    {
      "cell_type": "code",
      "execution_count": 17,
      "metadata": {
        "id": "bQlf4ZUh6Pdz"
      },
      "outputs": [
        {
          "name": "stdout",
          "output_type": "stream",
          "text": [
            "A or I is in the name\n",
            "O and N is in the name\n"
          ]
        }
      ],
      "source": [
        "name = \"Antonina\"\n",
        "\n",
        "# Перевірка наявності літер \"a\" або \"i\" в імені\n",
        "if \"a\" in name or \"i\" in name:\n",
        "    print(\"A or I is in the name\")\n",
        "\n",
        "# Перевірка наявності літер в імені\n",
        "if \"o\" in name and \"n\" in name:\n",
        "    print(\"O and N is in the name\")\n",
        "elif \"n\" in name:\n",
        "    print(\"Only N is in the name\")\n",
        "else:\n",
        "    print(\"There is no N in the name, but there might be O\")\n"
      ]
    },
    {
      "cell_type": "markdown",
      "metadata": {
        "id": "xOZP0hkx6cCr"
      },
      "source": [
        "# Вітаю! Ви велика(ий) молодець, що впоралась(вся). Похваліть себе та побалуйте чимось приємним. Я Вами пишаюся."
      ]
    }
  ],
  "metadata": {
    "colab": {
      "provenance": []
    },
    "kernelspec": {
      "display_name": "Python 3",
      "name": "python3"
    },
    "language_info": {
      "codemirror_mode": {
        "name": "ipython",
        "version": 3
      },
      "file_extension": ".py",
      "mimetype": "text/x-python",
      "name": "python",
      "nbconvert_exporter": "python",
      "pygments_lexer": "ipython3",
      "version": "3.10.5"
    }
  },
  "nbformat": 4,
  "nbformat_minor": 0
}
