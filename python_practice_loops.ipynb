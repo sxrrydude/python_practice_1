{
  "cells": [
    {
      "cell_type": "markdown",
      "metadata": {
        "id": "bhnw_OBiped2"
      },
      "source": [
        "# I. range."
      ]
    },
    {
      "cell_type": "markdown",
      "metadata": {
        "id": "cS4sWGwctkLH"
      },
      "source": [
        "1. (4 бали) Створіть обʼєкт типу range, який буде містити послідовність цілих чисел від 0 до 9 включно. Виведіть його довжину (кількість значень)."
      ]
    },
    {
      "cell_type": "code",
      "execution_count": 1,
      "metadata": {
        "id": "1XFhN5gVte4X"
      },
      "outputs": [
        {
          "name": "stdout",
          "output_type": "stream",
          "text": [
            "Довжина об'єкта range: 10\n"
          ]
        }
      ],
      "source": [
        "# Створення об'єкта типу range\n",
        "my_range = range(10)\n",
        "\n",
        "print(\"Довжина об'єкта range:\", len(my_range))\n"
      ]
    },
    {
      "cell_type": "markdown",
      "metadata": {
        "id": "VZ0Dh0m-t9tM"
      },
      "source": [
        "2. (5 балів) Створіть обʼєкт типу range, який буде містити послідовність цілих чисел (16, 13, 10, 7, 4, 1, -2, -5)"
      ]
    },
    {
      "cell_type": "code",
      "execution_count": 2,
      "metadata": {
        "id": "YavF1Agaoe8J"
      },
      "outputs": [
        {
          "name": "stdout",
          "output_type": "stream",
          "text": [
            "[16, 13, 10, 7, 4, 1, -2, -5]\n"
          ]
        }
      ],
      "source": [
        "# Створення об'єкта типу range з вказаною послідовністю\n",
        "my_range = range(16, -6, -3)\n",
        "\n",
        "print(list(my_range))\n"
      ]
    },
    {
      "cell_type": "markdown",
      "metadata": {
        "id": "nBmE3_nMuavj"
      },
      "source": [
        "3. (4 бали) Створіть змінну зі значенням цілого типу. Перевірте, чи вона належить проміжку від 49 до 100 включно. Як ви гадаєте, для чого використовуються range?"
      ]
    },
    {
      "cell_type": "code",
      "execution_count": 3,
      "metadata": {
        "id": "5KmgBmOIuku4"
      },
      "outputs": [
        {
          "name": "stdout",
          "output_type": "stream",
          "text": [
            "73 належить проміжку від 49 до 100 включно.\n"
          ]
        }
      ],
      "source": [
        "# Створення змінної зі значенням цілого типу\n",
        "my_number = 73\n",
        "\n",
        "# Перевірка, чи змінна належить проміжку від 49 до 100 включно\n",
        "if my_number in range(49, 101):\n",
        "    print(f\"{my_number} належить проміжку від 49 до 100 включно.\")\n",
        "else:\n",
        "    print(f\"{my_number} не належить проміжку від 49 до 100 включно.\")\n"
      ]
    },
    {
      "cell_type": "markdown",
      "metadata": {
        "id": "hZHtKQUJxDxj"
      },
      "source": [
        "**місце для відповіді*"
      ]
    },
    {
      "cell_type": "markdown",
      "metadata": {
        "id": "56FjMkPatTD6"
      },
      "source": [
        "# II. Comprehensions."
      ]
    },
    {
      "cell_type": "markdown",
      "metadata": {
        "id": "AZyfyNfYvOyq"
      },
      "source": [
        "4. (6 балів) Створіть множину (set), використовуючи range та set comprehension."
      ]
    },
    {
      "cell_type": "code",
      "execution_count": 4,
      "metadata": {
        "id": "DE8oNYSUvNfR"
      },
      "outputs": [
        {
          "name": "stdout",
          "output_type": "stream",
          "text": [
            "{5, 6, 7, 8, 9, 10, 11, 12, 13, 14}\n"
          ]
        }
      ],
      "source": [
        "# Створення множини за допомогою set comprehension та range\n",
        "my_set = {x for x in range(5, 15)}\n",
        "\n",
        "print(my_set)\n"
      ]
    },
    {
      "cell_type": "markdown",
      "metadata": {
        "id": "5IsyYnolvWxJ"
      },
      "source": [
        "5. (8 балів) Створіть словник, використовуючи dict comprehension, що містить if else. Коли слід використовувати comprehensions, а коли їх слід уникати?"
      ]
    },
    {
      "cell_type": "code",
      "execution_count": null,
      "metadata": {
        "id": "PTLiarj4vWVu"
      },
      "outputs": [],
      "source": [
        "# Створення словника за допомогою dict comprehension та умовного виразу\n",
        "my_dict = {x: \"even\" if x % 2 == 0 else \"odd\" for x in range(1, 10)}\n",
        "\n",
        "print(my_dict)\n"
      ]
    },
    {
      "cell_type": "markdown",
      "metadata": {
        "id": "PcwgYcjdxYPA"
      },
      "source": [
        "Коли використовувати comprehensions:\n",
        "Зрозумілість та читабельність: Comprehensions забезпечують компактний і читабельний спосіб створення списків, множин, словників тощо.\n",
        "Ефективність пам'яті: Comprehensions можуть бути ефективнішими у використанні пам'яті, особливо при обробці великих об'ємів даних.\n",
        "Коли уникати comprehensions:\n",
        "Складні умови: Якщо умови для comprehensions стають занадто складними, це може призвести до втрати зрозумілості і читабельності коду.\n",
        "Складні операції: Якщо comprehensions містять складні операції, це може зменшити читабельність коду, і в цьому випадку може бути краще використовувати цикли.**місце для відповіді*"
      ]
    },
    {
      "cell_type": "markdown",
      "metadata": {
        "id": "xPVEDwk6vfhU"
      },
      "source": [
        "6. (7 балів) Створіть список з рядками та запишіть його у змінну. Створіть ще один список на основі попереднього, де кожен рядок буде містити тільки три перших заглавних символи. Наприклад: ['hello', 'i', 'dont', 'care'] -> ['HEL', 'I', 'DON', 'CAR']"
      ]
    },
    {
      "cell_type": "code",
      "execution_count": 5,
      "metadata": {
        "id": "l1FAM69Owi7q"
      },
      "outputs": [
        {
          "name": "stdout",
          "output_type": "stream",
          "text": [
            "Оригінальний список: ['hello', 'i', 'dont', 'care']\n",
            "Модифікований список: ['HEL', 'I', 'DON', 'CAR']\n"
          ]
        }
      ],
      "source": [
        "# Створення списку з рядками\n",
        "original_list = ['hello', 'i', 'dont', 'care']\n",
        "\n",
        "# Створення нового списку з тризначними заголовками\n",
        "modified_list = [s[:3].upper() for s in original_list]\n",
        "\n",
        "print(\"Оригінальний список:\", original_list)\n",
        "print(\"Модифікований список:\", modified_list)\n"
      ]
    },
    {
      "cell_type": "markdown",
      "metadata": {
        "id": "9zEB8ekEtTnQ"
      },
      "source": [
        "# III. Цикли."
      ]
    },
    {
      "cell_type": "markdown",
      "metadata": {
        "id": "AlEfFe4Fwv8n"
      },
      "source": [
        "7. (6 балів) Продемонструйте роботу циклу while. Чи можна використовувати в умові циклу булеві значення? Чому?"
      ]
    },
    {
      "cell_type": "code",
      "execution_count": 6,
      "metadata": {
        "id": "kiDSbqo0wwMZ"
      },
      "outputs": [
        {
          "name": "stdout",
          "output_type": "stream",
          "text": [
            "Умова виконана.\n",
            "Цикл завершено.\n"
          ]
        }
      ],
      "source": [
        "# Використання булевого значення в умові циклу\n",
        "is_condition_met = True\n",
        "\n",
        "while is_condition_met:\n",
        "    print(\"Умова виконана.\")\n",
        "    is_condition_met = False  # Змінна is_condition_met змінюється, щоб припинити цикл\n",
        "\n",
        "print(\"Цикл завершено.\")\n",
        "\n",
        "#можна використовувати булеві значення в умові циклу. Умова циклу перевіряється на істинність (True) або хибність (False)\n"
      ]
    },
    {
      "cell_type": "markdown",
      "metadata": {
        "id": "J9TkD5_Cx3I1"
      },
      "source": [
        "8. (8 балів) Напишіть програму, яка виведе на екран непарні числа в діапазоні від 0 до 20 включно."
      ]
    },
    {
      "cell_type": "code",
      "execution_count": 7,
      "metadata": {
        "id": "5A1d-qvVx34B"
      },
      "outputs": [
        {
          "name": "stdout",
          "output_type": "stream",
          "text": [
            "1\n",
            "3\n",
            "5\n",
            "7\n",
            "9\n",
            "11\n",
            "13\n",
            "15\n",
            "17\n",
            "19\n"
          ]
        }
      ],
      "source": [
        "# Використання циклу для виведення непарних чисел в діапазоні\n",
        "for number in range(21):\n",
        "    if number % 2 != 0:\n",
        "        print(number)\n"
      ]
    },
    {
      "cell_type": "markdown",
      "metadata": {
        "id": "xN6Kfmqex4NU"
      },
      "source": [
        "9. (7 балів) Створіть список з елементами булевого типу або None. Використовуючи цикли, отримайте в результаті список з кортежами, де перший елемент кортежу - індекс(ціле число), а другий елемент - відповідне значення з першого списку.\n",
        "\n",
        "Наприклад, [True, True, None, False] -> [(0, True), (1, True), (2, None), (3, False)]"
      ]
    },
    {
      "cell_type": "code",
      "execution_count": 8,
      "metadata": {
        "id": "YhVlQnNIx405"
      },
      "outputs": [
        {
          "name": "stdout",
          "output_type": "stream",
          "text": [
            "[(0, True), (1, True), (2, None), (3, False)]\n"
          ]
        }
      ],
      "source": [
        "original_list = [True, True, None, False]\n",
        "\n",
        "# Створення нового списку з кортежами\n",
        "result_list = [(index, value) for index, value in enumerate(original_list)]\n",
        "\n",
        "print(result_list)\n"
      ]
    },
    {
      "cell_type": "markdown",
      "metadata": {
        "id": "cJNlWxHLx5mW"
      },
      "source": [
        "10. (10 балів) Створіть словник, де ключі - назви книжок, а значення - їхня кількість у наявності в Вашій міні-бібліотеці. Бібліотека має містити щонайменше 6 книжок (6 пар значень у словнику) і щонайбільше 10 (пар значень). Використовуючи цикли, оновіть словник (не створюйте новий) так, щоби кількість книг у наявності збільшилося на 5 кожної книги. Наприклад,\n",
        "{'It': 3, 'Fault stars': 10, 'Bible': 17, 'Psychological romance': 4, 'Harry Potter': 13} -> {'It': 8, 'Fault stars': 15, 'Bible': 22, 'Psychological romance': 9, 'Harry Potter': 18}"
      ]
    },
    {
      "cell_type": "code",
      "execution_count": 9,
      "metadata": {
        "id": "pI7I71ao0qh_"
      },
      "outputs": [
        {
          "name": "stdout",
          "output_type": "stream",
          "text": [
            "{'It': 8, 'Fault stars': 15, 'Bible': 22, 'Psychological romance': 9, 'Harry Potter': 18}\n"
          ]
        }
      ],
      "source": [
        "library = {'It': 3, 'Fault stars': 10, 'Bible': 17, 'Psychological romance': 4, 'Harry Potter': 13}\n",
        "\n",
        "# Оновлення кількості книг у наявності\n",
        "for book in library:\n",
        "    library[book] += 5\n",
        "\n",
        "print(library)\n"
      ]
    },
    {
      "cell_type": "markdown",
      "metadata": {
        "id": "qdZA6qi82GBa"
      },
      "source": [
        "11. (15 балів) Визначте цілочислену змінну n, що належить проміжку від 4 до 10 включно. Використовуючи цикли, виведіть в консоль наступний патерн.\n",
        "\n",
        "#\n",
        "##\n",
        "###\n",
        "####\n",
        "\n",
        "... #*n\n"
      ]
    },
    {
      "cell_type": "code",
      "execution_count": 10,
      "metadata": {
        "id": "aaHuUQHfx6YO"
      },
      "outputs": [
        {
          "name": "stdout",
          "output_type": "stream",
          "text": [
            "#\n",
            "##\n",
            "###\n",
            "####\n",
            "#####\n",
            "######\n"
          ]
        }
      ],
      "source": [
        "\n",
        "n = 6\n",
        "\n",
        "for i in range(1, n + 1):\n",
        "    print(\"#\" * i)\n"
      ]
    },
    {
      "cell_type": "markdown",
      "metadata": {
        "id": "XOniyaun74Ed"
      },
      "source": [
        "12. (20 балів) Гра \"Нумо вгадай\".\n",
        "Розробіть просту гру, де користувач має вгадати випадкове число від 1 до 100. Для генерації випадкового числа використовуйте функцію random.randint(a, b) (тут a та b включно). Для отримання числа з консолі використовуйте функцію input(), результат якої обовʼязково явно приведіть до типу int.\n",
        "\n",
        "Підказка: використовуйте цикл while та умови if-else, щоб повідомити користувачу піказки (напр. \"Більше\", \"Менше\") поки користувач не вгадає. По завершенню виведіть кількість спроб, які знадобилися для вгадування.\n"
      ]
    },
    {
      "cell_type": "code",
      "execution_count": 1,
      "metadata": {
        "id": "iomCeUuW73NG"
      },
      "outputs": [
        {
          "name": "stdout",
          "output_type": "stream",
          "text": [
            "Вітаємо у грі 'Нумо вгадай'!\n"
          ]
        }
      ],
      "source": [
        "import random\n",
        "\n",
        "# Генерація випадкового числа від 1 до 100\n",
        "secret_number = random.randint(1, 100)\n",
        "\n",
        "# Ініціалізація лічильника спроб\n",
        "attempts = 0\n",
        "\n",
        "print(\"Вітаємо у грі 'Нумо вгадай'!\")\n",
        "\n",
        "# Цикл вгадування\n",
        "while True:\n",
        "    # Збільшення лічильника спроб\n",
        "    attempts += 1\n",
        "\n",
        "    # Отримання числа від користувача\n",
        "    guess = int(input(\"Введіть свій варіант (від 1 до 100): \"))\n",
        "\n",
        "    # Перевірка, чи вгадав користувач\n",
        "    if guess == secret_number:\n",
        "        print(f\"Вітаємо! Ви вгадали число {secret_number} за {attempts} спроб.\")\n",
        "        break\n",
        "    elif guess < secret_number:\n",
        "        print(\"Спробуйте більше.\")\n",
        "    else:\n",
        "        print(\"Спробуйте менше.\")\n"
      ]
    },
    {
      "cell_type": "markdown",
      "metadata": {
        "id": "jTs-rqOptY2R"
      },
      "source": [
        "# Вітаю! Ви велика(ий) молодець, що впоралась(вся). Похваліть себе та побалуйте чимось приємним. Я Вами пишаюся."
      ]
    }
  ],
  "metadata": {
    "colab": {
      "provenance": []
    },
    "kernelspec": {
      "display_name": "Python 3",
      "name": "python3"
    },
    "language_info": {
      "codemirror_mode": {
        "name": "ipython",
        "version": 3
      },
      "file_extension": ".py",
      "mimetype": "text/x-python",
      "name": "python",
      "nbconvert_exporter": "python",
      "pygments_lexer": "ipython3",
      "version": "3.10.5"
    }
  },
  "nbformat": 4,
  "nbformat_minor": 0
}
